{
 "cells": [
  {
   "cell_type": "markdown",
   "metadata": {
    "colab_type": "text",
    "id": "view-in-github"
   },
   "source": [
    "<a href=\"https://colab.research.google.com/github/AI4Finance-Foundation/FinRL/blob/master/FinRL_StockTrading_NeurIPS_2018.ipynb\" target=\"_parent\"><img src=\"https://colab.research.google.com/assets/colab-badge.svg\" alt=\"Open In Colab\"/></a>"
   ]
  },
  {
   "cell_type": "markdown",
   "metadata": {
    "id": "gXaoZs2lh1hi"
   },
   "source": [
    "# Deep Reinforcement Learning for Stock Trading from Scratch: Multiple Stock Trading\n",
    "\n",
    "* **Pytorch Version** \n",
    "\n"
   ]
  },
  {
   "cell_type": "markdown",
   "metadata": {
    "id": "lGunVt8oLCVS"
   },
   "source": [
    "# Content"
   ]
  },
  {
   "cell_type": "markdown",
   "metadata": {
    "id": "HOzAKQ-SLGX6"
   },
   "source": [
    "* [1. Problem Definition](#0)\n",
    "* [2. Getting Started - Load Python packages](#1)\n",
    "    * [2.1. Install Packages](#1.1)    \n",
    "    * [2.2. Check Additional Packages](#1.2)\n",
    "    * [2.3. Import Packages](#1.3)\n",
    "    * [2.4. Create Folders](#1.4)\n",
    "* [3. Download Data](#2)\n",
    "* [4. Preprocess Data](#3)        \n",
    "    * [4.1. Technical Indicators](#3.1)\n",
    "    * [4.2. Perform Feature Engineering](#3.2)\n",
    "* [5.Build Environment](#4)  \n",
    "    * [5.1. Training & Trade Data Split](#4.1)\n",
    "    * [5.2. User-defined Environment](#4.2)   \n",
    "    * [5.3. Initialize Environment](#4.3)    \n",
    "* [6.Implement DRL Algorithms](#5)  \n",
    "* [7.Backtesting Performance](#6)  \n",
    "    * [7.1. BackTestStats](#6.1)\n",
    "    * [7.2. BackTestPlot](#6.2)   \n",
    "    * [7.3. Baseline Stats](#6.3)   \n",
    "    * [7.3. Compare to Stock Market Index](#6.4)   \n",
    "* [RLlib Section](#7)            "
   ]
  },
  {
   "cell_type": "markdown",
   "metadata": {
    "id": "sApkDlD9LIZv"
   },
   "source": [
    "<a id='0'></a>\n",
    "# Part 1. Problem Definition"
   ]
  },
  {
   "cell_type": "markdown",
   "metadata": {
    "id": "HjLD2TZSLKZ-"
   },
   "source": [
    "This problem is to design an automated trading solution for single stock trading. We model the stock trading process as a Markov Decision Process (MDP). We then formulate our trading goal as a maximization problem.\n",
    "\n",
    "The algorithm is trained using Deep Reinforcement Learning (DRL) algorithms and the components of the reinforcement learning environment are:\n",
    "\n",
    "\n",
    "* Action: The action space describes the allowed actions that the agent interacts with the\n",
    "environment. Normally, a ∈ A includes three actions: a ∈ {−1, 0, 1}, where −1, 0, 1 represent\n",
    "selling, holding, and buying one stock. Also, an action can be carried upon multiple shares. We use\n",
    "an action space {−k, ..., −1, 0, 1, ..., k}, where k denotes the number of shares. For example, \"Buy\n",
    "10 shares of AAPL\" or \"Sell 10 shares of AAPL\" are 10 or −10, respectively\n",
    "\n",
    "* Reward function: r(s, a, s′) is the incentive mechanism for an agent to learn a better action. The change of the portfolio value when action a is taken at state s and arriving at new state s',  i.e., r(s, a, s′) = v′ − v, where v′ and v represent the portfolio\n",
    "values at state s′ and s, respectively\n",
    "\n",
    "* State: The state space describes the observations that the agent receives from the environment. Just as a human trader needs to analyze various information before executing a trade, so\n",
    "our trading agent observes many different features to better learn in an interactive environment.\n",
    "\n",
    "* Environment: Dow 30 consituents\n",
    "\n",
    "\n",
    "The data of the single stock that we will be using for this case study is obtained from Yahoo Finance API. The data contains Open-High-Low-Close price and volume.\n"
   ]
  },
  {
   "cell_type": "markdown",
   "metadata": {
    "id": "Ffsre789LY08"
   },
   "source": [
    "<a id='1'></a>\n",
    "# Part 2. Getting Started- Load Python Packages"
   ]
  },
  {
   "cell_type": "markdown",
   "metadata": {
    "id": "Uy5_PTmOh1hj"
   },
   "source": [
    "<a id='1.1'></a>\n",
    "## 2.1. Install all the packages through FinRL library\n"
   ]
  },
  {
   "cell_type": "code",
   "execution_count": 1,
   "metadata": {
    "colab": {
     "base_uri": "https://localhost:8080/"
    },
    "id": "mPT0ipYE28wL",
    "outputId": "ef0ba8d0-f57a-4c74-bb0b-46737762677d"
   },
   "outputs": [
    {
     "name": "stdout",
     "output_type": "stream",
     "text": [
      "Defaulting to user installation because normal site-packages is not writeable\n",
      "Collecting git+https://github.com/AI4Finance-LLC/FinRL-Library.git\n",
      "  Cloning https://github.com/AI4Finance-LLC/FinRL-Library.git to /tmp/pip-req-build-b_5c92v3\n",
      "  Running command git clone -q https://github.com/AI4Finance-LLC/FinRL-Library.git /tmp/pip-req-build-b_5c92v3\n",
      "  Resolved https://github.com/AI4Finance-LLC/FinRL-Library.git to commit 734f0bfe71e7b81aee37140d49ab1b1f5c6ce218\n",
      "Collecting pyfolio@ git+https://github.com/quantopian/pyfolio.git#egg=pyfolio-0.9.2\n",
      "  Cloning https://github.com/quantopian/pyfolio.git to /tmp/pip-install-x2ouanlc/pyfolio_c664cd75874e48d6ae97c65019d5ddca\n",
      "  Running command git clone -q https://github.com/quantopian/pyfolio.git /tmp/pip-install-x2ouanlc/pyfolio_c664cd75874e48d6ae97c65019d5ddca\n",
      "  Resolved https://github.com/quantopian/pyfolio.git to commit 4b901f6d73aa02ceb6d04b7d83502e5c6f2e81aa\n",
      "Collecting elegantrl@ git+https://github.com/AI4Finance-Foundation/ElegantRL.git#egg=elegantrl\n",
      "  Cloning https://github.com/AI4Finance-Foundation/ElegantRL.git to /tmp/pip-install-x2ouanlc/elegantrl_a3ab9058744649a7b847ed6b364ba5c4\n",
      "  Running command git clone -q https://github.com/AI4Finance-Foundation/ElegantRL.git /tmp/pip-install-x2ouanlc/elegantrl_a3ab9058744649a7b847ed6b364ba5c4\n",
      "  Resolved https://github.com/AI4Finance-Foundation/ElegantRL.git to commit 9e44c3487b7fd71c160e144f8caac31d6a724465\n",
      "Requirement already satisfied: numpy>=1.17.3 in /gnu/store/c3l9xd7c09cchmk475swghfa6sfkkw88-python-numpy-1.20.3/lib/python3.9/site-packages (from finrl==0.3.5) (1.20.3)\n",
      "Requirement already satisfied: pandas>=1.1.5 in ./__pypackages__/3.9/lib (from finrl==0.3.5) (1.4.2)\n",
      "Requirement already satisfied: stockstats>=0.4.0 in ./__pypackages__/3.9/lib (from finrl==0.3.5) (0.4.1)\n",
      "Requirement already satisfied: yfinance in ./__pypackages__/3.9/lib (from finrl==0.3.5) (0.1.72)\n",
      "Requirement already satisfied: elegantrl in ./__pypackages__/3.9/lib (from finrl==0.3.5) (0.3.3)\n",
      "Requirement already satisfied: matplotlib in /gnu/store/inlr765y2qwvlkr5f8zzdhrp0lvmgkjx-python-matplotlib-3.5.1/lib/python3.9/site-packages (from finrl==0.3.5) (3.5.1)\n",
      "Requirement already satisfied: scikit-learn>=0.21.0 in ./__pypackages__/3.9/lib (from finrl==0.3.5) (1.1.1)\n",
      "Requirement already satisfied: gym>=0.17 in ./__pypackages__/3.9/lib (from finrl==0.3.5) (0.21.0)\n",
      "Requirement already satisfied: stable-baselines3[extra] in ./__pypackages__/3.9/lib (from finrl==0.3.5) (1.5.0)\n",
      "Requirement already satisfied: ray[default] in ./__pypackages__/3.9/lib (from finrl==0.3.5) (1.13.0)\n",
      "Requirement already satisfied: lz4 in ./__pypackages__/3.9/lib (from finrl==0.3.5) (4.0.1)\n",
      "Requirement already satisfied: tensorboardX in ./__pypackages__/3.9/lib (from finrl==0.3.5) (2.5.1)\n",
      "Requirement already satisfied: gputil in ./__pypackages__/3.9/lib (from finrl==0.3.5) (1.4.0)\n",
      "Requirement already satisfied: exchange_calendars in ./__pypackages__/3.9/lib (from finrl==0.3.5) (3.6.3)\n",
      "Requirement already satisfied: alpaca_trade_api>=2.1.0 in ./__pypackages__/3.9/lib (from finrl==0.3.5) (2.2.0)\n",
      "Requirement already satisfied: ccxt==1.66.32 in ./__pypackages__/3.9/lib (from finrl==0.3.5) (1.66.32)\n",
      "Requirement already satisfied: jqdatasdk in ./__pypackages__/3.9/lib (from finrl==0.3.5) (1.8.10)\n",
      "Requirement already satisfied: wrds in ./__pypackages__/3.9/lib (from finrl==0.3.5) (3.1.1)\n",
      "Requirement already satisfied: pytest in /gnu/store/zwc5q57bff6314pjgfa0c6rj8pxmyn1j-python-pytest-6.2.5/lib/python3.9/site-packages (from finrl==0.3.5) (6.2.5)\n",
      "Collecting setuptools==59.5.0\n",
      "  Using cached setuptools-59.5.0-py3-none-any.whl (952 kB)\n",
      "Requirement already satisfied: wheel>=0.33.6 in /gnu/store/5y502jl3d6krhq78lsf3qx84vacrw456-profile/lib/python3.9/site-packages (from finrl==0.3.5) (0.37.0)\n",
      "Requirement already satisfied: pre-commit in ./__pypackages__/3.9/lib (from finrl==0.3.5) (2.19.0)\n",
      "Requirement already satisfied: certifi>=2018.1.18 in /gnu/store/hyglphska1gknm3q0jfdzk820plql55i-python-certifi-2020.12.5/lib/python3.9/site-packages (from ccxt==1.66.32->finrl==0.3.5) (2020.12.5)\n",
      "Requirement already satisfied: aiohttp>=3.8 in ./__pypackages__/3.9/lib (from ccxt==1.66.32->finrl==0.3.5) (3.8.1)\n",
      "Requirement already satisfied: cryptography>=2.6.1 in /gnu/store/jakrgjvxh0raw530kz8vbrf8xah88nf4-python-cryptography-3.3.1/lib/python3.9/site-packages (from ccxt==1.66.32->finrl==0.3.5) (3.3.1)\n",
      "Requirement already satisfied: yarl==1.7.2 in ./__pypackages__/3.9/lib (from ccxt==1.66.32->finrl==0.3.5) (1.7.2)\n",
      "Requirement already satisfied: aiodns>=1.1.1 in ./__pypackages__/3.9/lib (from ccxt==1.66.32->finrl==0.3.5) (3.0.0)\n",
      "Requirement already satisfied: requests>=2.18.4 in /gnu/store/qa70xl88f3pz9xkv7hps0l2bxzxhbsxi-python-requests-2.26.0/lib/python3.9/site-packages (from ccxt==1.66.32->finrl==0.3.5) (2.26.0)\n",
      "Requirement already satisfied: idna>=2.0 in /gnu/store/w4hxd7w2nlwj4yj2yg3yif4mip508b59-python-idna-2.10/lib/python3.9/site-packages (from yarl==1.7.2->ccxt==1.66.32->finrl==0.3.5) (2.10)\n",
      "Requirement already satisfied: multidict>=4.0 in ./__pypackages__/3.9/lib (from yarl==1.7.2->ccxt==1.66.32->finrl==0.3.5) (6.0.2)\n",
      "Requirement already satisfied: pycares>=4.0.0 in ./__pypackages__/3.9/lib (from aiodns>=1.1.1->ccxt==1.66.32->finrl==0.3.5) (4.1.2)\n",
      "Requirement already satisfied: aiosignal>=1.1.2 in ./__pypackages__/3.9/lib (from aiohttp>=3.8->ccxt==1.66.32->finrl==0.3.5) (1.2.0)\n",
      "Requirement already satisfied: attrs>=17.3.0 in /gnu/store/74kivpqcjsn7r6n53zarspwdxgkgbl14-python-attrs-bootstrap-21.2.0/lib/python3.9/site-packages (from aiohttp>=3.8->ccxt==1.66.32->finrl==0.3.5) (21.2.0)\n",
      "Requirement already satisfied: charset-normalizer<3.0,>=2.0 in /gnu/store/j0zbkyslsmv4vcan7k8h1q4nmbhr7s0f-python-charset-normalizer-2.0.5/lib/python3.9/site-packages (from aiohttp>=3.8->ccxt==1.66.32->finrl==0.3.5) (2.0.5)\n",
      "Requirement already satisfied: frozenlist>=1.1.1 in ./__pypackages__/3.9/lib (from aiohttp>=3.8->ccxt==1.66.32->finrl==0.3.5) (1.3.0)\n",
      "Requirement already satisfied: async-timeout<5.0,>=4.0.0a3 in ./__pypackages__/3.9/lib (from aiohttp>=3.8->ccxt==1.66.32->finrl==0.3.5) (4.0.2)\n",
      "Requirement already satisfied: PyYAML==6.0 in /gnu/store/5y502jl3d6krhq78lsf3qx84vacrw456-profile/lib/python3.9/site-packages (from alpaca_trade_api>=2.1.0->finrl==0.3.5) (6.0)\n",
      "Requirement already satisfied: urllib3<2,>1.24 in /gnu/store/4gq7gyhpygzh0cqsz8ryf9yd1phw3nb1-python-urllib3-1.26.7/lib/python3.9/site-packages (from alpaca_trade_api>=2.1.0->finrl==0.3.5) (1.26.7)\n",
      "Requirement already satisfied: websockets<11,>=9.0 in ./__pypackages__/3.9/lib (from alpaca_trade_api>=2.1.0->finrl==0.3.5) (10.3)\n",
      "Requirement already satisfied: deprecation==2.1.0 in ./__pypackages__/3.9/lib (from alpaca_trade_api>=2.1.0->finrl==0.3.5) (2.1.0)\n",
      "Requirement already satisfied: msgpack==1.0.3 in /gnu/store/5y502jl3d6krhq78lsf3qx84vacrw456-profile/lib/python3.9/site-packages (from alpaca_trade_api>=2.1.0->finrl==0.3.5) (1.0.3)\n",
      "Requirement already satisfied: websocket-client<2,>=0.56.0 in ./__pypackages__/3.9/lib (from alpaca_trade_api>=2.1.0->finrl==0.3.5) (1.3.2)\n",
      "Requirement already satisfied: packaging in /gnu/store/vr16bf0b1bzmzvckva708fpng3qlcfwh-python-packaging-bootstrap-21.3/lib/python3.9/site-packages (from deprecation==2.1.0->alpaca_trade_api>=2.1.0->finrl==0.3.5) (21.3)\n",
      "Requirement already satisfied: six>=1.4.1 in /gnu/store/cl3nc3lbzgjifp5c4fz0g0h34bjaibf6-python-six-1.16.0/lib/python3.9/site-packages (from cryptography>=2.6.1->ccxt==1.66.32->finrl==0.3.5) (1.16.0)\n",
      "Requirement already satisfied: cffi>=1.12 in /gnu/store/p09ad3pwazgjcfblzw94lmwq0jgd41zp-python-cffi-1.14.4/lib/python3.9/site-packages (from cryptography>=2.6.1->ccxt==1.66.32->finrl==0.3.5) (1.14.4)\n",
      "Requirement already satisfied: pycparser in /gnu/store/m5p8iinvgbylsym6j1bg9vp27cr7yb0q-python-pycparser-2.20/lib/python3.9/site-packages (from cffi>=1.12->cryptography>=2.6.1->ccxt==1.66.32->finrl==0.3.5) (2.20)\n",
      "Requirement already satisfied: cloudpickle>=1.2.0 in ./__pypackages__/3.9/lib (from gym>=0.17->finrl==0.3.5) (2.1.0)\n",
      "Requirement already satisfied: pytz>=2020.1 in /gnu/store/fkxl8fnk6cab2jr2ymafmdl8x7x9pdj9-python-pytz-2021.1/lib/python3.9/site-packages (from pandas>=1.1.5->finrl==0.3.5) (2021.1)\n",
      "Requirement already satisfied: python-dateutil>=2.8.1 in /gnu/store/n2klq1ivfcpf3k2jnw25yjm9qy6q07fc-python-dateutil-2.8.2/lib/python3.9/site-packages (from pandas>=1.1.5->finrl==0.3.5) (2.8.2)\n"
     ]
    },
    {
     "name": "stdout",
     "output_type": "stream",
     "text": [
      "Requirement already satisfied: joblib>=1.0.0 in ./__pypackages__/3.9/lib (from scikit-learn>=0.21.0->finrl==0.3.5) (1.1.0)\n",
      "Requirement already satisfied: scipy>=1.3.2 in /gnu/store/5y502jl3d6krhq78lsf3qx84vacrw456-profile/lib/python3.9/site-packages (from scikit-learn>=0.21.0->finrl==0.3.5) (1.7.3)\n",
      "Requirement already satisfied: threadpoolctl>=2.0.0 in ./__pypackages__/3.9/lib (from scikit-learn>=0.21.0->finrl==0.3.5) (3.1.0)\n",
      "Requirement already satisfied: pybullet in ./__pypackages__/3.9/lib (from elegantrl@ git+https://github.com/AI4Finance-Foundation/ElegantRL.git#egg=elegantrl->finrl==0.3.5) (3.2.5)\n",
      "Requirement already satisfied: torch in ./__pypackages__/3.9/lib (from elegantrl@ git+https://github.com/AI4Finance-Foundation/ElegantRL.git#egg=elegantrl->finrl==0.3.5) (1.11.0)\n",
      "Requirement already satisfied: opencv-python in ./__pypackages__/3.9/lib (from elegantrl@ git+https://github.com/AI4Finance-Foundation/ElegantRL.git#egg=elegantrl->finrl==0.3.5) (4.6.0.66)\n",
      "Requirement already satisfied: box2d-py in ./__pypackages__/3.9/lib (from elegantrl@ git+https://github.com/AI4Finance-Foundation/ElegantRL.git#egg=elegantrl->finrl==0.3.5) (2.3.8)\n",
      "Requirement already satisfied: toolz in /gnu/store/5y502jl3d6krhq78lsf3qx84vacrw456-profile/lib/python3.9/site-packages (from exchange_calendars->finrl==0.3.5) (0.11.2)\n",
      "Requirement already satisfied: pyluach in ./__pypackages__/3.9/lib (from exchange_calendars->finrl==0.3.5) (2.0.0)\n",
      "Requirement already satisfied: korean-lunar-calendar in ./__pypackages__/3.9/lib (from exchange_calendars->finrl==0.3.5) (0.2.1)\n",
      "Requirement already satisfied: SQLAlchemy>=1.2.8 in ./__pypackages__/3.9/lib (from jqdatasdk->finrl==0.3.5) (1.4.37)\n",
      "Requirement already satisfied: pymysql>=0.7.6 in ./__pypackages__/3.9/lib (from jqdatasdk->finrl==0.3.5) (1.0.2)\n",
      "Requirement already satisfied: thriftpy2>=0.3.9 in ./__pypackages__/3.9/lib (from jqdatasdk->finrl==0.3.5) (0.4.14)\n",
      "Requirement already satisfied: greenlet!=0.4.17 in ./__pypackages__/3.9/lib (from SQLAlchemy>=1.2.8->jqdatasdk->finrl==0.3.5) (1.1.2)\n",
      "Requirement already satisfied: ply<4.0,>=3.4 in /gnu/store/5y502jl3d6krhq78lsf3qx84vacrw456-profile/lib/python3.9/site-packages (from thriftpy2>=0.3.9->jqdatasdk->finrl==0.3.5) (3.11)\n",
      "Requirement already satisfied: cycler>=0.10 in /gnu/store/9s32lq1nia9aw0mjqisdxml9r808isib-python-cycler-0.10.0/lib/python3.9/site-packages (from matplotlib->finrl==0.3.5) (0.10.0)\n",
      "Requirement already satisfied: fonttools>=4.22.0 in /gnu/store/7q0lvwpz16ffykk52pii8rhqnm5lppjm-python-fonttools-4.28.5/lib/python3.9/site-packages (from matplotlib->finrl==0.3.5) (4.28.5)\n",
      "Requirement already satisfied: kiwisolver>=1.0.1 in /gnu/store/l89b2mg35khd25346n5naldlb64ajihd-python-kiwisolver-1.0.1/lib/python3.9/site-packages (from matplotlib->finrl==0.3.5) (1.0.1)\n",
      "Requirement already satisfied: pillow>=6.2.0 in /gnu/store/dmaz7sz4r30gg1xc4hf3556y4icmpik0-python-pillow-9.0.0/lib/python3.9/site-packages (from matplotlib->finrl==0.3.5) (9.0.0)\n",
      "Requirement already satisfied: pyparsing>=2.2.1 in /gnu/store/f9a6smln5z5240d9k1mk5jg8b6mnqiwl-python-pyparsing-3.0.6/lib/python3.9/site-packages (from matplotlib->finrl==0.3.5) (3.0.6)\n",
      "Requirement already satisfied: virtualenv>=20.0.8 in /gnu/store/5y502jl3d6krhq78lsf3qx84vacrw456-profile/lib/python3.9/site-packages (from pre-commit->finrl==0.3.5) (20.3.1)\n",
      "Requirement already satisfied: toml in /gnu/store/nl58q651x8dbhmxp62i345pz4zmpi4rl-python-toml-0.10.2/lib/python3.9/site-packages (from pre-commit->finrl==0.3.5) (0.10.2)\n",
      "Requirement already satisfied: cfgv>=2.0.0 in ./__pypackages__/3.9/lib (from pre-commit->finrl==0.3.5) (3.3.1)\n",
      "Requirement already satisfied: nodeenv>=0.11.1 in ./__pypackages__/3.9/lib (from pre-commit->finrl==0.3.5) (1.6.0)\n",
      "Requirement already satisfied: identify>=1.0.0 in ./__pypackages__/3.9/lib (from pre-commit->finrl==0.3.5) (2.5.1)\n",
      "Requirement already satisfied: appdirs<2,>=1.4.3 in /gnu/store/5y502jl3d6krhq78lsf3qx84vacrw456-profile/lib/python3.9/site-packages (from virtualenv>=20.0.8->pre-commit->finrl==0.3.5) (1.4.3)\n",
      "Requirement already satisfied: distlib<1,>=0.3.1 in /gnu/store/5y502jl3d6krhq78lsf3qx84vacrw456-profile/lib/python3.9/site-packages (from virtualenv>=20.0.8->pre-commit->finrl==0.3.5) (0.3.1)\n",
      "Requirement already satisfied: filelock<4,>=3.0.0 in /gnu/store/5y502jl3d6krhq78lsf3qx84vacrw456-profile/lib/python3.9/site-packages (from virtualenv>=20.0.8->pre-commit->finrl==0.3.5) (3.0.12)\n",
      "Requirement already satisfied: ipython>=3.2.3 in /gnu/store/fq1c98hm5qvgkaqf0cxca9a7qshz3ksw-python-ipython-7.27.0/lib/python3.9/site-packages (from pyfolio@ git+https://github.com/quantopian/pyfolio.git#egg=pyfolio-0.9.2->finrl==0.3.5) (7.27.0)\n",
      "Requirement already satisfied: seaborn>=0.7.1 in ./__pypackages__/3.9/lib (from pyfolio@ git+https://github.com/quantopian/pyfolio.git#egg=pyfolio-0.9.2->finrl==0.3.5) (0.11.2)\n",
      "Requirement already satisfied: empyrical>=0.5.0 in ./__pypackages__/3.9/lib (from pyfolio@ git+https://github.com/quantopian/pyfolio.git#egg=pyfolio-0.9.2->finrl==0.3.5) (0.5.5)\n",
      "Requirement already satisfied: pandas-datareader>=0.2 in ./__pypackages__/3.9/lib (from empyrical>=0.5.0->pyfolio@ git+https://github.com/quantopian/pyfolio.git#egg=pyfolio-0.9.2->finrl==0.3.5) (0.10.0)\n",
      "Requirement already satisfied: jedi>=0.16 in /gnu/store/pr2yhp2l6vknbi3scv06p96apnrmnbfm-python-jedi-0.18.1/lib/python3.9/site-packages (from ipython>=3.2.3->pyfolio@ git+https://github.com/quantopian/pyfolio.git#egg=pyfolio-0.9.2->finrl==0.3.5) (0.18.1)\n",
      "Requirement already satisfied: decorator in /gnu/store/f0aa3qbah14mgmwdl6xn0wbnhm15b0jm-python-decorator-5.0.9/lib/python3.9/site-packages (from ipython>=3.2.3->pyfolio@ git+https://github.com/quantopian/pyfolio.git#egg=pyfolio-0.9.2->finrl==0.3.5) (5.0.9)\n",
      "Requirement already satisfied: pickleshare in /gnu/store/z6fm4byvh4rwhqsmgghvspl6n7mjv566-python-pickleshare-0.7.5/lib/python3.9/site-packages (from ipython>=3.2.3->pyfolio@ git+https://github.com/quantopian/pyfolio.git#egg=pyfolio-0.9.2->finrl==0.3.5) (0.7.5)\n",
      "Requirement already satisfied: traitlets>=4.2 in /gnu/store/rdnm7wf8hqnawqjvz75r9dfjby6ij03g-python-traitlets-4.3.3/lib/python3.9/site-packages (from ipython>=3.2.3->pyfolio@ git+https://github.com/quantopian/pyfolio.git#egg=pyfolio-0.9.2->finrl==0.3.5) (4.3.3)\n",
      "Requirement already satisfied: prompt_toolkit!=3.0.0,!=3.0.1,<3.1.0,>=2.0.0 in /gnu/store/cab69s1bmd6y774084hxxvzrx2ac8fjy-python-prompt-toolkit-2.0.7/lib/python3.9/site-packages (from ipython>=3.2.3->pyfolio@ git+https://github.com/quantopian/pyfolio.git#egg=pyfolio-0.9.2->finrl==0.3.5) (2.0.7)\n",
      "Requirement already satisfied: pygments in /gnu/store/g5s1v2fgwbpq63566kq4jdsmz77l6kzs-python-pygments-2.8.1/lib/python3.9/site-packages (from ipython>=3.2.3->pyfolio@ git+https://github.com/quantopian/pyfolio.git#egg=pyfolio-0.9.2->finrl==0.3.5) (2.8.1)\n",
      "Requirement already satisfied: backcall in /gnu/store/8g4ysf64xm3kb14ap8a4k8pb1wj5lh54-python-backcall-0.2.0/lib/python3.9/site-packages (from ipython>=3.2.3->pyfolio@ git+https://github.com/quantopian/pyfolio.git#egg=pyfolio-0.9.2->finrl==0.3.5) (0.2.0)\n",
      "Requirement already satisfied: matplotlib-inline in /gnu/store/0gq7gzrvdra8ybmm3myjm841mqf9ddz6-python-matplotlib-inline-0.1.3/lib/python3.9/site-packages (from ipython>=3.2.3->pyfolio@ git+https://github.com/quantopian/pyfolio.git#egg=pyfolio-0.9.2->finrl==0.3.5) (0.1.3)\n",
      "Requirement already satisfied: pexpect>4.3 in /gnu/store/6mz6893kx8ccp73zkv79rrbasljzncm9-python-pexpect-4.8.0/lib/python3.9/site-packages (from ipython>=3.2.3->pyfolio@ git+https://github.com/quantopian/pyfolio.git#egg=pyfolio-0.9.2->finrl==0.3.5) (4.8.0)\n",
      "Requirement already satisfied: parso<0.9.0,>=0.8.0 in /gnu/store/cdr9x4rw5yhkbd2kp0nlsazswxjzcxaz-python-parso-0.8.2/lib/python3.9/site-packages (from jedi>=0.16->ipython>=3.2.3->pyfolio@ git+https://github.com/quantopian/pyfolio.git#egg=pyfolio-0.9.2->finrl==0.3.5) (0.8.2)\n",
      "Requirement already satisfied: lxml in ./__pypackages__/3.9/lib (from pandas-datareader>=0.2->empyrical>=0.5.0->pyfolio@ git+https://github.com/quantopian/pyfolio.git#egg=pyfolio-0.9.2->finrl==0.3.5) (4.9.0)\n",
      "Requirement already satisfied: ptyprocess>=0.5 in /gnu/store/glnjjhr3y3hxylb6lz8fkvw1750imxds-python-ptyprocess-0.5.2/lib/python3.9/site-packages (from pexpect>4.3->ipython>=3.2.3->pyfolio@ git+https://github.com/quantopian/pyfolio.git#egg=pyfolio-0.9.2->finrl==0.3.5) (0.5.2)\n",
      "Requirement already satisfied: wcwidth in /gnu/store/az5yw33ifrrdwps0fqmaa1hsvdlgvwid-python-wcwidth-0.1.8/lib/python3.9/site-packages (from prompt_toolkit!=3.0.0,!=3.0.1,<3.1.0,>=2.0.0->ipython>=3.2.3->pyfolio@ git+https://github.com/quantopian/pyfolio.git#egg=pyfolio-0.9.2->finrl==0.3.5) (0.1.8)\n"
     ]
    },
    {
     "name": "stdout",
     "output_type": "stream",
     "text": [
      "Requirement already satisfied: ipython_genutils in /gnu/store/m84rvcxbkf35y4a6psqqwyfzsmb3q0cs-python-ipython-genutils-0.1.0/lib/python3.9/site-packages (from traitlets>=4.2->ipython>=3.2.3->pyfolio@ git+https://github.com/quantopian/pyfolio.git#egg=pyfolio-0.9.2->finrl==0.3.5) (0.1.0)\n",
      "Requirement already satisfied: iniconfig in /gnu/store/1hssss1mrxmsyrd4w9zv8gbpb7zncdq8-python-iniconfig-1.1.1/lib/python3.9/site-packages (from pytest->finrl==0.3.5) (0.0.0)\n",
      "Requirement already satisfied: pluggy<2.0,>=0.12 in /gnu/store/1dh3ra00qakpp27jpl88m36rl1ij495z-python-pluggy-0.13.1/lib/python3.9/site-packages (from pytest->finrl==0.3.5) (0.13.1)\n",
      "Requirement already satisfied: py>=1.8.2 in /gnu/store/k49pbvmdlv7cjhfgsgkdjqv4rd94gx7x-python-py-1.10.0/lib/python3.9/site-packages (from pytest->finrl==0.3.5) (1.10.0)\n",
      "Requirement already satisfied: grpcio<=1.43.0,>=1.28.1 in ./__pypackages__/3.9/lib (from ray[default]->finrl==0.3.5) (1.43.0)\n",
      "Requirement already satisfied: click<=8.0.4,>=7.0 in ./__pypackages__/3.9/lib (from ray[default]->finrl==0.3.5) (8.0.4)\n",
      "Requirement already satisfied: jsonschema in /gnu/store/65h5r51q273rwby6g6c2jymbhwlkc8ak-python-jsonschema-3.2.0/lib/python3.9/site-packages (from ray[default]->finrl==0.3.5) (3.2.0)\n",
      "Requirement already satisfied: protobuf<4.0.0,>=3.15.3 in ./__pypackages__/3.9/lib (from ray[default]->finrl==0.3.5) (3.19.4)\n",
      "Requirement already satisfied: aiohttp-cors in ./__pypackages__/3.9/lib (from ray[default]->finrl==0.3.5) (0.7.0)\n",
      "Requirement already satisfied: prometheus-client<0.14.0,>=0.7.1 in /gnu/store/n4bpdqmbsxdfcymw7133vbkmwxwf03mh-python-prometheus-client-0.7.1/lib/python3.9/site-packages (from ray[default]->finrl==0.3.5) (0.7.1)\n",
      "Requirement already satisfied: opencensus in ./__pypackages__/3.9/lib (from ray[default]->finrl==0.3.5) (0.9.0)\n",
      "Requirement already satisfied: colorful in ./__pypackages__/3.9/lib (from ray[default]->finrl==0.3.5) (0.5.4)\n",
      "Requirement already satisfied: smart-open in ./__pypackages__/3.9/lib (from ray[default]->finrl==0.3.5) (6.0.0)\n",
      "Requirement already satisfied: py-spy>=0.2.0 in ./__pypackages__/3.9/lib (from ray[default]->finrl==0.3.5) (0.3.12)\n",
      "Requirement already satisfied: gpustat>=1.0.0b1 in ./__pypackages__/3.9/lib (from ray[default]->finrl==0.3.5) (1.0.0b1)\n",
      "Requirement already satisfied: blessed>=1.17.1 in ./__pypackages__/3.9/lib (from gpustat>=1.0.0b1->ray[default]->finrl==0.3.5) (1.19.1)\n",
      "Requirement already satisfied: psutil in /gnu/store/5y502jl3d6krhq78lsf3qx84vacrw456-profile/lib/python3.9/site-packages (from gpustat>=1.0.0b1->ray[default]->finrl==0.3.5) (5.9.0)\n",
      "Requirement already satisfied: nvidia-ml-py3>=7.352.0 in ./__pypackages__/3.9/lib (from gpustat>=1.0.0b1->ray[default]->finrl==0.3.5) (7.352.0)\n",
      "Requirement already satisfied: pyrsistent>=0.14.0 in /gnu/store/q06w09f937q54kwwb3sfg8zdqygn0gil-python-pyrsistent-0.16.0/lib/python3.9/site-packages (from jsonschema->ray[default]->finrl==0.3.5) (0.16.0)\n",
      "Requirement already satisfied: opencensus-context>=0.1.2 in ./__pypackages__/3.9/lib (from opencensus->ray[default]->finrl==0.3.5) (0.1.2)\n",
      "Requirement already satisfied: google-api-core<3.0.0,>=1.0.0 in ./__pypackages__/3.9/lib (from opencensus->ray[default]->finrl==0.3.5) (2.8.2)\n",
      "Requirement already satisfied: google-auth<3.0dev,>=1.25.0 in ./__pypackages__/3.9/lib (from google-api-core<3.0.0,>=1.0.0->opencensus->ray[default]->finrl==0.3.5) (2.8.0)\n",
      "Requirement already satisfied: googleapis-common-protos<2.0dev,>=1.56.2 in ./__pypackages__/3.9/lib (from google-api-core<3.0.0,>=1.0.0->opencensus->ray[default]->finrl==0.3.5) (1.56.2)\n",
      "Requirement already satisfied: rsa<5,>=3.1.4 in ./__pypackages__/3.9/lib (from google-auth<3.0dev,>=1.25.0->google-api-core<3.0.0,>=1.0.0->opencensus->ray[default]->finrl==0.3.5) (4.8)\n",
      "Requirement already satisfied: pyasn1-modules>=0.2.1 in ./__pypackages__/3.9/lib (from google-auth<3.0dev,>=1.25.0->google-api-core<3.0.0,>=1.0.0->opencensus->ray[default]->finrl==0.3.5) (0.2.8)\n",
      "Requirement already satisfied: cachetools<6.0,>=2.0.0 in ./__pypackages__/3.9/lib (from google-auth<3.0dev,>=1.25.0->google-api-core<3.0.0,>=1.0.0->opencensus->ray[default]->finrl==0.3.5) (4.2.2)\n",
      "Requirement already satisfied: pyasn1<0.5.0,>=0.4.6 in /gnu/store/5y502jl3d6krhq78lsf3qx84vacrw456-profile/lib/python3.9/site-packages (from pyasn1-modules>=0.2.1->google-auth<3.0dev,>=1.25.0->google-api-core<3.0.0,>=1.0.0->opencensus->ray[default]->finrl==0.3.5) (0.4.8)\n",
      "Requirement already satisfied: tabulate in ./__pypackages__/3.9/lib (from ray[default]->finrl==0.3.5) (0.8.9)\n",
      "Requirement already satisfied: ale-py~=0.7.4 in ./__pypackages__/3.9/lib (from stable-baselines3[extra]->finrl==0.3.5) (0.7.5)\n",
      "Requirement already satisfied: tensorboard>=2.2.0 in ./__pypackages__/3.9/lib (from stable-baselines3[extra]->finrl==0.3.5) (2.9.1)\n",
      "Requirement already satisfied: autorom[accept-rom-license]~=0.4.2 in ./__pypackages__/3.9/lib (from stable-baselines3[extra]->finrl==0.3.5) (0.4.2)\n",
      "Requirement already satisfied: importlib-resources in ./__pypackages__/3.9/lib (from ale-py~=0.7.4->stable-baselines3[extra]->finrl==0.3.5) (5.8.0)\n",
      "Requirement already satisfied: importlib-metadata>=4.10.0 in ./__pypackages__/3.9/lib (from ale-py~=0.7.4->stable-baselines3[extra]->finrl==0.3.5) (4.11.4)\n",
      "Requirement already satisfied: tqdm in /gnu/store/5y502jl3d6krhq78lsf3qx84vacrw456-profile/lib/python3.9/site-packages (from autorom[accept-rom-license]~=0.4.2->stable-baselines3[extra]->finrl==0.3.5) (4.62.3)\n",
      "Requirement already satisfied: AutoROM.accept-rom-license in ./__pypackages__/3.9/lib (from autorom[accept-rom-license]~=0.4.2->stable-baselines3[extra]->finrl==0.3.5) (0.4.2)\n",
      "Requirement already satisfied: zipp>=0.5 in ./__pypackages__/3.9/lib (from importlib-metadata>=4.10.0->ale-py~=0.7.4->stable-baselines3[extra]->finrl==0.3.5) (3.8.0)\n",
      "Requirement already satisfied: markdown>=2.6.8 in ./__pypackages__/3.9/lib (from tensorboard>=2.2.0->stable-baselines3[extra]->finrl==0.3.5) (3.3.7)\n",
      "Requirement already satisfied: tensorboard-plugin-wit>=1.6.0 in ./__pypackages__/3.9/lib (from tensorboard>=2.2.0->stable-baselines3[extra]->finrl==0.3.5) (1.8.1)\n",
      "Requirement already satisfied: werkzeug>=1.0.1 in ./__pypackages__/3.9/lib (from tensorboard>=2.2.0->stable-baselines3[extra]->finrl==0.3.5) (2.1.2)\n",
      "Requirement already satisfied: google-auth-oauthlib<0.5,>=0.4.1 in ./__pypackages__/3.9/lib (from tensorboard>=2.2.0->stable-baselines3[extra]->finrl==0.3.5) (0.4.6)\n",
      "Requirement already satisfied: absl-py>=0.4 in ./__pypackages__/3.9/lib (from tensorboard>=2.2.0->stable-baselines3[extra]->finrl==0.3.5) (1.1.0)\n",
      "Requirement already satisfied: tensorboard-data-server<0.7.0,>=0.6.0 in ./__pypackages__/3.9/lib (from tensorboard>=2.2.0->stable-baselines3[extra]->finrl==0.3.5) (0.6.1)\n",
      "Requirement already satisfied: requests-oauthlib>=0.7.0 in ./__pypackages__/3.9/lib (from google-auth-oauthlib<0.5,>=0.4.1->tensorboard>=2.2.0->stable-baselines3[extra]->finrl==0.3.5) (1.3.1)\n",
      "Requirement already satisfied: oauthlib>=3.0.0 in ./__pypackages__/3.9/lib (from requests-oauthlib>=0.7.0->google-auth-oauthlib<0.5,>=0.4.1->tensorboard>=2.2.0->stable-baselines3[extra]->finrl==0.3.5) (3.2.0)\n",
      "Requirement already satisfied: typing-extensions in ./__pypackages__/3.9/lib (from torch->elegantrl@ git+https://github.com/AI4Finance-Foundation/ElegantRL.git#egg=elegantrl->finrl==0.3.5) (4.2.0)\n",
      "Requirement already satisfied: psycopg2-binary in ./__pypackages__/3.9/lib (from wrds->finrl==0.3.5) (2.9.3)\n",
      "Requirement already satisfied: mock in ./__pypackages__/3.9/lib (from wrds->finrl==0.3.5) (4.0.3)\n",
      "Requirement already satisfied: multitasking>=0.0.7 in ./__pypackages__/3.9/lib (from yfinance->finrl==0.3.5) (0.0.10)\n",
      "Building wheels for collected packages: finrl, elegantrl, pyfolio\n",
      "  Building wheel for finrl (setup.py) ... \u001b[?25ldone\n",
      "\u001b[?25h  Created wheel for finrl: filename=finrl-0.3.5-py3-none-any.whl size=86457 sha256=789180e8a7fe0002b599722e22e23b371b7bf2fd4d659ac6b8f2ea082feada52\n",
      "  Stored in directory: /tmp/pip-ephem-wheel-cache-uwsh9u1n/wheels/2b/0d/4a/39b40e5764855aa7c6e759ff2197a08e5d8456716a577791f8\n",
      "  Building wheel for elegantrl (setup.py) ... \u001b[?25ldone\n",
      "\u001b[?25h  Created wheel for elegantrl: filename=elegantrl-0.3.3-py3-none-any.whl size=238680 sha256=0639cbc87581625fc19f9f65f0fc004e815d403663373340638f01dc68cffe4d\n",
      "  Stored in directory: /tmp/pip-ephem-wheel-cache-uwsh9u1n/wheels/a3/c3/be/03eb1f20c8650f23ab13b823d93a297a917899f5d08b04b7b9\n"
     ]
    },
    {
     "name": "stdout",
     "output_type": "stream",
     "text": [
      "  Building wheel for pyfolio (setup.py) ... \u001b[?25ldone\n",
      "\u001b[?25h  Created wheel for pyfolio: filename=pyfolio-0.9.2+75.g4b901f6-py3-none-any.whl size=75775 sha256=7d0370b11b6f16f986c2db7f99aee157cc9d839cc47972c6706a27ca52d1275a\n",
      "  Stored in directory: /tmp/pip-ephem-wheel-cache-uwsh9u1n/wheels/da/0d/dd/aef7001cc1238aff04ec9eabfc002341f00c50deead3083855\n",
      "Successfully built finrl elegantrl pyfolio\n",
      "Installing collected packages: setuptools, pyfolio, elegantrl, finrl\n",
      "\u001b[31mERROR: pip's dependency resolver does not currently take into account all the packages that are installed. This behaviour is the source of the following dependency conflicts.\n",
      "docker-compose 1.29.2 requires distro<2,>=1.5.0, which is not installed.\n",
      "docker-compose 1.29.2 requires docker[ssh]>=5, which is not installed.\n",
      "docker-compose 1.29.2 requires dockerpty<1,>=0.4.1, which is not installed.\n",
      "docker-compose 1.29.2 requires docopt<1,>=0.6.1, which is not installed.\n",
      "docker-compose 1.29.2 requires python-dotenv<1,>=0.13.0, which is not installed.\n",
      "docker-compose 1.29.2 requires texttable<2,>=0.9.0, which is not installed.\n",
      "docker-compose 1.29.2 requires PyYAML<6,>=3.10, but you have pyyaml 6.0 which is incompatible.\n",
      "docker-compose 1.29.2 requires websocket-client<1,>=0.32.0, but you have websocket-client 1.3.2 which is incompatible.\u001b[0m\n",
      "Successfully installed elegantrl-0.3.3 finrl-0.3.5 pyfolio-0.9.2+75.g4b901f6 setuptools-59.5.0\n",
      "\u001b[33mWARNING: You are using pip version 21.2.4; however, version 22.1.2 is available.\n",
      "You should consider upgrading via the '/gnu/store/fby6l226w8kh2mwkzpjpajmgy0q1kxli-python-wrapper-3.9.9/bin/python -m pip install --upgrade pip' command.\u001b[0m\n",
      "Note: you may need to restart the kernel to use updated packages.\n"
     ]
    }
   ],
   "source": [
    "## install finrl library\n",
    "%pip install git+https://github.com/AI4Finance-LLC/FinRL-Library.git"
   ]
  },
  {
   "cell_type": "code",
   "execution_count": 1,
   "metadata": {
    "id": "w9A8CN5R5PuZ"
   },
   "outputs": [],
   "source": [
    "from finrl import config\n",
    "from finrl import config_tickers\n",
    "import os\n",
    "if not os.path.exists(\"./\" + config.DATA_SAVE_DIR):\n",
    "    os.makedirs(\"./\" + config.DATA_SAVE_DIR)\n",
    "if not os.path.exists(\"./\" + config.TRAINED_MODEL_DIR):\n",
    "    os.makedirs(\"./\" + config.TRAINED_MODEL_DIR)\n",
    "if not os.path.exists(\"./\" + config.TENSORBOARD_LOG_DIR):\n",
    "    os.makedirs(\"./\" + config.TENSORBOARD_LOG_DIR)\n",
    "if not os.path.exists(\"./\" + config.RESULTS_DIR):\n",
    "    os.makedirs(\"./\" + config.RESULTS_DIR)"
   ]
  },
  {
   "cell_type": "code",
   "execution_count": 2,
   "metadata": {
    "colab": {
     "base_uri": "https://localhost:8080/"
    },
    "id": "lPqeTTwoh1hn",
    "outputId": "10b08480-3a0c-4826-8e51-f94ce97ab84a"
   },
   "outputs": [
    {
     "name": "stderr",
     "output_type": "stream",
     "text": [
      "/mnt/recoverData/linuxProgram/workspace/Finrl_python3.9/__pypackages__/3.9/lib/pyfolio/pos.py:26: UserWarning: Module \"zipline.assets\" not found; multipliers will not be applied to position notionals.\n",
      "  warnings.warn(\n"
     ]
    }
   ],
   "source": [
    "import pandas as pd\n",
    "import numpy as np\n",
    "import matplotlib\n",
    "import matplotlib.pyplot as plt\n",
    "# matplotlib.use('Agg')\n",
    "import datetime\n",
    "\n",
    "%matplotlib inline\n",
    "from finrl.finrl_meta.preprocessor.yahoodownloader import YahooDownloader\n",
    "from finrl.finrl_meta.preprocessor.preprocessors import FeatureEngineer, data_split\n",
    "from finrl.finrl_meta.env_stock_trading.env_stocktrading import StockTradingEnv\n",
    "from finrl.agents.stablebaselines3.models import DRLAgent\n",
    "from finrl.finrl_meta.data_processor import DataProcessor\n",
    "\n",
    "from finrl.plot import backtest_stats, backtest_plot, get_daily_return, get_baseline\n",
    "from pprint import pprint\n",
    "\n",
    "import sys\n",
    "sys.path.append(\"../FinRL-Library\")\n",
    "\n",
    "import itertools"
   ]
  },
  {
   "cell_type": "code",
   "execution_count": 3,
   "metadata": {},
   "outputs": [
    {
     "name": "stderr",
     "output_type": "stream",
     "text": [
      "/mnt/recoverData/linuxProgram/workspace/Finrl_python3.9/__pypackages__/3.9/lib/dateparser/date_parser.py:35: PytzUsageWarning: The localize method is no longer necessary, as this time zone supports the fold attribute (PEP 495). For more details on migrating to a PEP 495-compliant implementation, see https://pytz-deprecation-shim.readthedocs.io/en/latest/migration.html\n",
      "  date_obj = stz.localize(date_obj)\n",
      "/mnt/recoverData/linuxProgram/workspace/Finrl_python3.9/__pypackages__/3.9/lib/dateparser/date_parser.py:35: PytzUsageWarning: The localize method is no longer necessary, as this time zone supports the fold attribute (PEP 495). For more details on migrating to a PEP 495-compliant implementation, see https://pytz-deprecation-shim.readthedocs.io/en/latest/migration.html\n",
      "  date_obj = stz.localize(date_obj)\n",
      "/mnt/recoverData/linuxProgram/workspace/Finrl_python3.9/__pypackages__/3.9/lib/dateparser/date_parser.py:35: PytzUsageWarning: The localize method is no longer necessary, as this time zone supports the fold attribute (PEP 495). For more details on migrating to a PEP 495-compliant implementation, see https://pytz-deprecation-shim.readthedocs.io/en/latest/migration.html\n",
      "  date_obj = stz.localize(date_obj)\n",
      "/mnt/recoverData/linuxProgram/workspace/Finrl_python3.9/__pypackages__/3.9/lib/dateparser/date_parser.py:35: PytzUsageWarning: The localize method is no longer necessary, as this time zone supports the fold attribute (PEP 495). For more details on migrating to a PEP 495-compliant implementation, see https://pytz-deprecation-shim.readthedocs.io/en/latest/migration.html\n",
      "  date_obj = stz.localize(date_obj)\n",
      "/mnt/recoverData/linuxProgram/workspace/Finrl_python3.9/__pypackages__/3.9/lib/dateparser/date_parser.py:35: PytzUsageWarning: The localize method is no longer necessary, as this time zone supports the fold attribute (PEP 495). For more details on migrating to a PEP 495-compliant implementation, see https://pytz-deprecation-shim.readthedocs.io/en/latest/migration.html\n",
      "  date_obj = stz.localize(date_obj)\n",
      "/mnt/recoverData/linuxProgram/workspace/Finrl_python3.9/__pypackages__/3.9/lib/dateparser/date_parser.py:35: PytzUsageWarning: The localize method is no longer necessary, as this time zone supports the fold attribute (PEP 495). For more details on migrating to a PEP 495-compliant implementation, see https://pytz-deprecation-shim.readthedocs.io/en/latest/migration.html\n",
      "  date_obj = stz.localize(date_obj)\n",
      "/mnt/recoverData/linuxProgram/workspace/Finrl_python3.9/__pypackages__/3.9/lib/dateparser/date_parser.py:35: PytzUsageWarning: The localize method is no longer necessary, as this time zone supports the fold attribute (PEP 495). For more details on migrating to a PEP 495-compliant implementation, see https://pytz-deprecation-shim.readthedocs.io/en/latest/migration.html\n",
      "  date_obj = stz.localize(date_obj)\n",
      "/mnt/recoverData/linuxProgram/workspace/Finrl_python3.9/__pypackages__/3.9/lib/dateparser/date_parser.py:35: PytzUsageWarning: The localize method is no longer necessary, as this time zone supports the fold attribute (PEP 495). For more details on migrating to a PEP 495-compliant implementation, see https://pytz-deprecation-shim.readthedocs.io/en/latest/migration.html\n",
      "  date_obj = stz.localize(date_obj)\n",
      "/mnt/recoverData/linuxProgram/workspace/Finrl_python3.9/__pypackages__/3.9/lib/dateparser/date_parser.py:35: PytzUsageWarning: The localize method is no longer necessary, as this time zone supports the fold attribute (PEP 495). For more details on migrating to a PEP 495-compliant implementation, see https://pytz-deprecation-shim.readthedocs.io/en/latest/migration.html\n",
      "  date_obj = stz.localize(date_obj)\n",
      "/mnt/recoverData/linuxProgram/workspace/Finrl_python3.9/__pypackages__/3.9/lib/dateparser/date_parser.py:35: PytzUsageWarning: The localize method is no longer necessary, as this time zone supports the fold attribute (PEP 495). For more details on migrating to a PEP 495-compliant implementation, see https://pytz-deprecation-shim.readthedocs.io/en/latest/migration.html\n",
      "  date_obj = stz.localize(date_obj)\n",
      "/mnt/recoverData/linuxProgram/workspace/Finrl_python3.9/__pypackages__/3.9/lib/dateparser/date_parser.py:35: PytzUsageWarning: The localize method is no longer necessary, as this time zone supports the fold attribute (PEP 495). For more details on migrating to a PEP 495-compliant implementation, see https://pytz-deprecation-shim.readthedocs.io/en/latest/migration.html\n",
      "  date_obj = stz.localize(date_obj)\n",
      "/mnt/recoverData/linuxProgram/workspace/Finrl_python3.9/__pypackages__/3.9/lib/dateparser/date_parser.py:35: PytzUsageWarning: The localize method is no longer necessary, as this time zone supports the fold attribute (PEP 495). For more details on migrating to a PEP 495-compliant implementation, see https://pytz-deprecation-shim.readthedocs.io/en/latest/migration.html\n",
      "  date_obj = stz.localize(date_obj)\n",
      "/mnt/recoverData/linuxProgram/workspace/Finrl_python3.9/__pypackages__/3.9/lib/dateparser/date_parser.py:35: PytzUsageWarning: The localize method is no longer necessary, as this time zone supports the fold attribute (PEP 495). For more details on migrating to a PEP 495-compliant implementation, see https://pytz-deprecation-shim.readthedocs.io/en/latest/migration.html\n",
      "  date_obj = stz.localize(date_obj)\n",
      "/mnt/recoverData/linuxProgram/workspace/Finrl_python3.9/__pypackages__/3.9/lib/dateparser/date_parser.py:35: PytzUsageWarning: The localize method is no longer necessary, as this time zone supports the fold attribute (PEP 495). For more details on migrating to a PEP 495-compliant implementation, see https://pytz-deprecation-shim.readthedocs.io/en/latest/migration.html\n",
      "  date_obj = stz.localize(date_obj)\n",
      "/mnt/recoverData/linuxProgram/workspace/Finrl_python3.9/__pypackages__/3.9/lib/dateparser/date_parser.py:35: PytzUsageWarning: The localize method is no longer necessary, as this time zone supports the fold attribute (PEP 495). For more details on migrating to a PEP 495-compliant implementation, see https://pytz-deprecation-shim.readthedocs.io/en/latest/migration.html\n",
      "  date_obj = stz.localize(date_obj)\n",
      "/mnt/recoverData/linuxProgram/workspace/Finrl_python3.9/__pypackages__/3.9/lib/dateparser/date_parser.py:35: PytzUsageWarning: The localize method is no longer necessary, as this time zone supports the fold attribute (PEP 495). For more details on migrating to a PEP 495-compliant implementation, see https://pytz-deprecation-shim.readthedocs.io/en/latest/migration.html\n",
      "  date_obj = stz.localize(date_obj)\n",
      "/mnt/recoverData/linuxProgram/workspace/Finrl_python3.9/__pypackages__/3.9/lib/dateparser/date_parser.py:35: PytzUsageWarning: The localize method is no longer necessary, as this time zone supports the fold attribute (PEP 495). For more details on migrating to a PEP 495-compliant implementation, see https://pytz-deprecation-shim.readthedocs.io/en/latest/migration.html\n",
      "  date_obj = stz.localize(date_obj)\n",
      "/mnt/recoverData/linuxProgram/workspace/Finrl_python3.9/__pypackages__/3.9/lib/dateparser/date_parser.py:35: PytzUsageWarning: The localize method is no longer necessary, as this time zone supports the fold attribute (PEP 495). For more details on migrating to a PEP 495-compliant implementation, see https://pytz-deprecation-shim.readthedocs.io/en/latest/migration.html\n",
      "  date_obj = stz.localize(date_obj)\n",
      "/mnt/recoverData/linuxProgram/workspace/Finrl_python3.9/__pypackages__/3.9/lib/dateparser/date_parser.py:35: PytzUsageWarning: The localize method is no longer necessary, as this time zone supports the fold attribute (PEP 495). For more details on migrating to a PEP 495-compliant implementation, see https://pytz-deprecation-shim.readthedocs.io/en/latest/migration.html\n",
      "  date_obj = stz.localize(date_obj)\n",
      "/mnt/recoverData/linuxProgram/workspace/Finrl_python3.9/__pypackages__/3.9/lib/dateparser/date_parser.py:35: PytzUsageWarning: The localize method is no longer necessary, as this time zone supports the fold attribute (PEP 495). For more details on migrating to a PEP 495-compliant implementation, see https://pytz-deprecation-shim.readthedocs.io/en/latest/migration.html\n",
      "  date_obj = stz.localize(date_obj)\n",
      "/mnt/recoverData/linuxProgram/workspace/Finrl_python3.9/__pypackages__/3.9/lib/dateparser/date_parser.py:35: PytzUsageWarning: The localize method is no longer necessary, as this time zone supports the fold attribute (PEP 495). For more details on migrating to a PEP 495-compliant implementation, see https://pytz-deprecation-shim.readthedocs.io/en/latest/migration.html\n",
      "  date_obj = stz.localize(date_obj)\n"
     ]
    },
    {
     "name": "stderr",
     "output_type": "stream",
     "text": [
      "/mnt/recoverData/linuxProgram/workspace/Finrl_python3.9/__pypackages__/3.9/lib/dateparser/date_parser.py:35: PytzUsageWarning: The localize method is no longer necessary, as this time zone supports the fold attribute (PEP 495). For more details on migrating to a PEP 495-compliant implementation, see https://pytz-deprecation-shim.readthedocs.io/en/latest/migration.html\n",
      "  date_obj = stz.localize(date_obj)\n",
      "/mnt/recoverData/linuxProgram/workspace/Finrl_python3.9/__pypackages__/3.9/lib/dateparser/date_parser.py:35: PytzUsageWarning: The localize method is no longer necessary, as this time zone supports the fold attribute (PEP 495). For more details on migrating to a PEP 495-compliant implementation, see https://pytz-deprecation-shim.readthedocs.io/en/latest/migration.html\n",
      "  date_obj = stz.localize(date_obj)\n",
      "/mnt/recoverData/linuxProgram/workspace/Finrl_python3.9/__pypackages__/3.9/lib/dateparser/date_parser.py:35: PytzUsageWarning: The localize method is no longer necessary, as this time zone supports the fold attribute (PEP 495). For more details on migrating to a PEP 495-compliant implementation, see https://pytz-deprecation-shim.readthedocs.io/en/latest/migration.html\n",
      "  date_obj = stz.localize(date_obj)\n",
      "/mnt/recoverData/linuxProgram/workspace/Finrl_python3.9/__pypackages__/3.9/lib/dateparser/date_parser.py:35: PytzUsageWarning: The localize method is no longer necessary, as this time zone supports the fold attribute (PEP 495). For more details on migrating to a PEP 495-compliant implementation, see https://pytz-deprecation-shim.readthedocs.io/en/latest/migration.html\n",
      "  date_obj = stz.localize(date_obj)\n",
      "/mnt/recoverData/linuxProgram/workspace/Finrl_python3.9/__pypackages__/3.9/lib/dateparser/date_parser.py:35: PytzUsageWarning: The localize method is no longer necessary, as this time zone supports the fold attribute (PEP 495). For more details on migrating to a PEP 495-compliant implementation, see https://pytz-deprecation-shim.readthedocs.io/en/latest/migration.html\n",
      "  date_obj = stz.localize(date_obj)\n",
      "/mnt/recoverData/linuxProgram/workspace/Finrl_python3.9/__pypackages__/3.9/lib/dateparser/date_parser.py:35: PytzUsageWarning: The localize method is no longer necessary, as this time zone supports the fold attribute (PEP 495). For more details on migrating to a PEP 495-compliant implementation, see https://pytz-deprecation-shim.readthedocs.io/en/latest/migration.html\n",
      "  date_obj = stz.localize(date_obj)\n",
      "/mnt/recoverData/linuxProgram/workspace/Finrl_python3.9/__pypackages__/3.9/lib/dateparser/date_parser.py:35: PytzUsageWarning: The localize method is no longer necessary, as this time zone supports the fold attribute (PEP 495). For more details on migrating to a PEP 495-compliant implementation, see https://pytz-deprecation-shim.readthedocs.io/en/latest/migration.html\n",
      "  date_obj = stz.localize(date_obj)\n",
      "/mnt/recoverData/linuxProgram/workspace/Finrl_python3.9/__pypackages__/3.9/lib/dateparser/date_parser.py:35: PytzUsageWarning: The localize method is no longer necessary, as this time zone supports the fold attribute (PEP 495). For more details on migrating to a PEP 495-compliant implementation, see https://pytz-deprecation-shim.readthedocs.io/en/latest/migration.html\n",
      "  date_obj = stz.localize(date_obj)\n",
      "/mnt/recoverData/linuxProgram/workspace/Finrl_python3.9/__pypackages__/3.9/lib/dateparser/date_parser.py:35: PytzUsageWarning: The localize method is no longer necessary, as this time zone supports the fold attribute (PEP 495). For more details on migrating to a PEP 495-compliant implementation, see https://pytz-deprecation-shim.readthedocs.io/en/latest/migration.html\n",
      "  date_obj = stz.localize(date_obj)\n",
      "/mnt/recoverData/linuxProgram/workspace/Finrl_python3.9/__pypackages__/3.9/lib/vectorbt/data/base.py:527: UserWarning: Symbols have mismatching index. Setting missing data points to NaN.\n",
      "  data = cls.align_index(data, missing=missing_index)\n"
     ]
    },
    {
     "data": {
      "text/html": [
       "<div>\n",
       "<style scoped>\n",
       "    .dataframe tbody tr th:only-of-type {\n",
       "        vertical-align: middle;\n",
       "    }\n",
       "\n",
       "    .dataframe tbody tr th {\n",
       "        vertical-align: top;\n",
       "    }\n",
       "\n",
       "    .dataframe thead th {\n",
       "        text-align: right;\n",
       "    }\n",
       "</style>\n",
       "<table border=\"1\" class=\"dataframe\">\n",
       "  <thead>\n",
       "    <tr style=\"text-align: right;\">\n",
       "      <th></th>\n",
       "      <th>date</th>\n",
       "      <th>tic</th>\n",
       "      <th>open</th>\n",
       "      <th>high</th>\n",
       "      <th>low</th>\n",
       "      <th>close</th>\n",
       "      <th>volume</th>\n",
       "      <th>rsi_30</th>\n",
       "      <th>ma_30</th>\n",
       "      <th>ma_60</th>\n",
       "    </tr>\n",
       "  </thead>\n",
       "  <tbody>\n",
       "    <tr>\n",
       "      <th>0</th>\n",
       "      <td>2008-12-31</td>\n",
       "      <td>AXP</td>\n",
       "      <td>14.442319</td>\n",
       "      <td>15.069198</td>\n",
       "      <td>14.394098</td>\n",
       "      <td>14.908460</td>\n",
       "      <td>9625600.0</td>\n",
       "      <td>NaN</td>\n",
       "      <td>NaN</td>\n",
       "      <td>NaN</td>\n",
       "    </tr>\n",
       "    <tr>\n",
       "      <th>1</th>\n",
       "      <td>2008-12-31</td>\n",
       "      <td>AMGN</td>\n",
       "      <td>43.437657</td>\n",
       "      <td>44.281920</td>\n",
       "      <td>43.399628</td>\n",
       "      <td>43.924438</td>\n",
       "      <td>6287200.0</td>\n",
       "      <td>NaN</td>\n",
       "      <td>NaN</td>\n",
       "      <td>NaN</td>\n",
       "    </tr>\n",
       "    <tr>\n",
       "      <th>2</th>\n",
       "      <td>2008-12-31</td>\n",
       "      <td>AAPL</td>\n",
       "      <td>2.625210</td>\n",
       "      <td>2.679259</td>\n",
       "      <td>2.605972</td>\n",
       "      <td>2.606277</td>\n",
       "      <td>607541200.0</td>\n",
       "      <td>NaN</td>\n",
       "      <td>NaN</td>\n",
       "      <td>NaN</td>\n",
       "    </tr>\n",
       "    <tr>\n",
       "      <th>3</th>\n",
       "      <td>2008-12-31</td>\n",
       "      <td>BA</td>\n",
       "      <td>31.195798</td>\n",
       "      <td>32.290913</td>\n",
       "      <td>31.128291</td>\n",
       "      <td>32.005882</td>\n",
       "      <td>5443100.0</td>\n",
       "      <td>NaN</td>\n",
       "      <td>NaN</td>\n",
       "      <td>NaN</td>\n",
       "    </tr>\n",
       "    <tr>\n",
       "      <th>4</th>\n",
       "      <td>2008-12-31</td>\n",
       "      <td>CAT</td>\n",
       "      <td>29.963725</td>\n",
       "      <td>30.923660</td>\n",
       "      <td>29.963725</td>\n",
       "      <td>30.628822</td>\n",
       "      <td>6277400.0</td>\n",
       "      <td>NaN</td>\n",
       "      <td>NaN</td>\n",
       "      <td>NaN</td>\n",
       "    </tr>\n",
       "    <tr>\n",
       "      <th>...</th>\n",
       "      <td>...</td>\n",
       "      <td>...</td>\n",
       "      <td>...</td>\n",
       "      <td>...</td>\n",
       "      <td>...</td>\n",
       "      <td>...</td>\n",
       "      <td>...</td>\n",
       "      <td>...</td>\n",
       "      <td>...</td>\n",
       "      <td>...</td>\n",
       "    </tr>\n",
       "    <tr>\n",
       "      <th>96925</th>\n",
       "      <td>2021-10-29</td>\n",
       "      <td>V</td>\n",
       "      <td>208.105676</td>\n",
       "      <td>212.542125</td>\n",
       "      <td>207.439200</td>\n",
       "      <td>210.652161</td>\n",
       "      <td>14329800.0</td>\n",
       "      <td>44.866255</td>\n",
       "      <td>224.879986</td>\n",
       "      <td>227.021134</td>\n",
       "    </tr>\n",
       "    <tr>\n",
       "      <th>96926</th>\n",
       "      <td>2021-10-29</td>\n",
       "      <td>WBA</td>\n",
       "      <td>45.414664</td>\n",
       "      <td>45.821708</td>\n",
       "      <td>45.327440</td>\n",
       "      <td>45.569729</td>\n",
       "      <td>4999000.0</td>\n",
       "      <td>42.857130</td>\n",
       "      <td>46.521763</td>\n",
       "      <td>47.068580</td>\n",
       "    </tr>\n",
       "    <tr>\n",
       "      <th>96927</th>\n",
       "      <td>2021-10-29</td>\n",
       "      <td>WMT</td>\n",
       "      <td>146.217791</td>\n",
       "      <td>148.382738</td>\n",
       "      <td>145.871790</td>\n",
       "      <td>147.710510</td>\n",
       "      <td>7340900.0</td>\n",
       "      <td>57.362636</td>\n",
       "      <td>140.781036</td>\n",
       "      <td>143.417337</td>\n",
       "    </tr>\n",
       "    <tr>\n",
       "      <th>96928</th>\n",
       "      <td>2021-10-29</td>\n",
       "      <td>DIS</td>\n",
       "      <td>169.020004</td>\n",
       "      <td>170.460007</td>\n",
       "      <td>168.149994</td>\n",
       "      <td>169.070007</td>\n",
       "      <td>7598800.0</td>\n",
       "      <td>38.994183</td>\n",
       "      <td>173.359333</td>\n",
       "      <td>176.751166</td>\n",
       "    </tr>\n",
       "    <tr>\n",
       "      <th>96929</th>\n",
       "      <td>2021-10-29</td>\n",
       "      <td>DOW</td>\n",
       "      <td>54.221557</td>\n",
       "      <td>54.723878</td>\n",
       "      <td>53.767536</td>\n",
       "      <td>54.066998</td>\n",
       "      <td>5894900.0</td>\n",
       "      <td>46.569002</td>\n",
       "      <td>56.037959</td>\n",
       "      <td>57.811672</td>\n",
       "    </tr>\n",
       "  </tbody>\n",
       "</table>\n",
       "<p>96930 rows × 10 columns</p>\n",
       "</div>"
      ],
      "text/plain": [
       "             date   tic        open        high         low       close  \\\n",
       "0      2008-12-31   AXP   14.442319   15.069198   14.394098   14.908460   \n",
       "1      2008-12-31  AMGN   43.437657   44.281920   43.399628   43.924438   \n",
       "2      2008-12-31  AAPL    2.625210    2.679259    2.605972    2.606277   \n",
       "3      2008-12-31    BA   31.195798   32.290913   31.128291   32.005882   \n",
       "4      2008-12-31   CAT   29.963725   30.923660   29.963725   30.628822   \n",
       "...           ...   ...         ...         ...         ...         ...   \n",
       "96925  2021-10-29     V  208.105676  212.542125  207.439200  210.652161   \n",
       "96926  2021-10-29   WBA   45.414664   45.821708   45.327440   45.569729   \n",
       "96927  2021-10-29   WMT  146.217791  148.382738  145.871790  147.710510   \n",
       "96928  2021-10-29   DIS  169.020004  170.460007  168.149994  169.070007   \n",
       "96929  2021-10-29   DOW   54.221557   54.723878   53.767536   54.066998   \n",
       "\n",
       "            volume     rsi_30       ma_30       ma_60  \n",
       "0        9625600.0        NaN         NaN         NaN  \n",
       "1        6287200.0        NaN         NaN         NaN  \n",
       "2      607541200.0        NaN         NaN         NaN  \n",
       "3        5443100.0        NaN         NaN         NaN  \n",
       "4        6277400.0        NaN         NaN         NaN  \n",
       "...            ...        ...         ...         ...  \n",
       "96925   14329800.0  44.866255  224.879986  227.021134  \n",
       "96926    4999000.0  42.857130   46.521763   47.068580  \n",
       "96927    7340900.0  57.362636  140.781036  143.417337  \n",
       "96928    7598800.0  38.994183  173.359333  176.751166  \n",
       "96929    5894900.0  46.569002   56.037959   57.811672  \n",
       "\n",
       "[96930 rows x 10 columns]"
      ]
     },
     "execution_count": 3,
     "metadata": {},
     "output_type": "execute_result"
    }
   ],
   "source": [
    "import vectorbt as vbt\n",
    "import pandas as pd\n",
    "start_date = '2009-01-01'\n",
    "end_date = '2021-10-31'\n",
    "DOW_30_TICKER = ['AXP', 'AMGN', 'AAPL', 'BA', 'CAT', 'CSCO', 'CVX', 'GS', 'HD', 'HON', 'IBM', 'INTC', 'JNJ', 'KO', 'JPM', 'MCD', 'MMM', 'MRK', 'MSFT', 'NKE', 'PG', 'TRV', 'UNH', 'CRM', 'VZ', 'V', 'WBA', 'WMT', 'DIS', 'DOW']\n",
    "data_vectorbt = vbt.YFData.download(\n",
    "     DOW_30_TICKER,\n",
    "     start=start_date,\n",
    "     end=end_date,\n",
    "     interval='1D'\n",
    " )\n",
    "\n",
    "\n",
    "def convert2FinrlFormat(data):\n",
    "    '''convert vectorbt format data to finrl format'''\n",
    "    # dataframe schema is tuple with 7 elements: Open ,High ,Low ,Close ,Volume ,Dividends ,Stock Splits\n",
    "    open = data.get()[0].stack(dropna=False).rename('open')\n",
    "    high = data.get()[1].stack(dropna=False).rename('high')\n",
    "    low = data.get()[2].stack(dropna=False).rename('low')\n",
    "    close = data.get()[3].stack(dropna=False).rename('close')\n",
    "    volume = data.get()[4].stack(dropna=False).rename('volume')\n",
    "    close_rawFormat = data.get()[3]\n",
    "    \n",
    "    rsi_30 = vbt.RSI.run(close_rawFormat, 30).rsi.stack(dropna=False).rename(columns = {30 : 'rsi_30'})\n",
    "    ma_30 = vbt.MA.run(close_rawFormat, 30).ma.stack(dropna=False).rename(columns = {30 : 'ma_30'})\n",
    "    ma_60 = vbt.MA.run(close_rawFormat, 60).ma.stack(dropna=False).rename(columns = {60 : 'ma_60'})\n",
    "    res = pd.concat([open,high,low,close,volume,rsi_30,ma_30,ma_60],axis=1).reset_index() # is slow because this line\n",
    "    res = res.rename(columns = {'Date' : 'date', 'symbol' : 'tic'})\n",
    "    res['date'] = res['date'].apply(lambda x : x.strftime('%Y-%m-%d'))\n",
    "    return res\n",
    "\n",
    "processed = convert2FinrlFormat(data_vectorbt)\n",
    "processed"
   ]
  },
  {
   "cell_type": "code",
   "execution_count": 4,
   "metadata": {},
   "outputs": [
    {
     "data": {
      "text/html": [
       "<div>\n",
       "<style scoped>\n",
       "    .dataframe tbody tr th:only-of-type {\n",
       "        vertical-align: middle;\n",
       "    }\n",
       "\n",
       "    .dataframe tbody tr th {\n",
       "        vertical-align: top;\n",
       "    }\n",
       "\n",
       "    .dataframe thead th {\n",
       "        text-align: right;\n",
       "    }\n",
       "</style>\n",
       "<table border=\"1\" class=\"dataframe\">\n",
       "  <thead>\n",
       "    <tr style=\"text-align: right;\">\n",
       "      <th></th>\n",
       "      <th>date</th>\n",
       "      <th>tic</th>\n",
       "      <th>open</th>\n",
       "      <th>high</th>\n",
       "      <th>low</th>\n",
       "      <th>close</th>\n",
       "      <th>volume</th>\n",
       "      <th>rsi_30</th>\n",
       "      <th>ma_30</th>\n",
       "      <th>ma_60</th>\n",
       "    </tr>\n",
       "  </thead>\n",
       "  <tbody>\n",
       "    <tr>\n",
       "      <th>2</th>\n",
       "      <td>2008-12-31</td>\n",
       "      <td>AAPL</td>\n",
       "      <td>2.625210</td>\n",
       "      <td>2.679259</td>\n",
       "      <td>2.605972</td>\n",
       "      <td>2.606277</td>\n",
       "      <td>607541200.0</td>\n",
       "      <td>0.000000</td>\n",
       "      <td>0.000000</td>\n",
       "      <td>0.000000</td>\n",
       "    </tr>\n",
       "    <tr>\n",
       "      <th>1</th>\n",
       "      <td>2008-12-31</td>\n",
       "      <td>AMGN</td>\n",
       "      <td>43.437657</td>\n",
       "      <td>44.281920</td>\n",
       "      <td>43.399628</td>\n",
       "      <td>43.924438</td>\n",
       "      <td>6287200.0</td>\n",
       "      <td>0.000000</td>\n",
       "      <td>0.000000</td>\n",
       "      <td>0.000000</td>\n",
       "    </tr>\n",
       "    <tr>\n",
       "      <th>0</th>\n",
       "      <td>2008-12-31</td>\n",
       "      <td>AXP</td>\n",
       "      <td>14.442319</td>\n",
       "      <td>15.069198</td>\n",
       "      <td>14.394098</td>\n",
       "      <td>14.908460</td>\n",
       "      <td>9625600.0</td>\n",
       "      <td>0.000000</td>\n",
       "      <td>0.000000</td>\n",
       "      <td>0.000000</td>\n",
       "    </tr>\n",
       "    <tr>\n",
       "      <th>3</th>\n",
       "      <td>2008-12-31</td>\n",
       "      <td>BA</td>\n",
       "      <td>31.195798</td>\n",
       "      <td>32.290913</td>\n",
       "      <td>31.128291</td>\n",
       "      <td>32.005882</td>\n",
       "      <td>5443100.0</td>\n",
       "      <td>0.000000</td>\n",
       "      <td>0.000000</td>\n",
       "      <td>0.000000</td>\n",
       "    </tr>\n",
       "    <tr>\n",
       "      <th>4</th>\n",
       "      <td>2008-12-31</td>\n",
       "      <td>CAT</td>\n",
       "      <td>29.963725</td>\n",
       "      <td>30.923660</td>\n",
       "      <td>29.963725</td>\n",
       "      <td>30.628822</td>\n",
       "      <td>6277400.0</td>\n",
       "      <td>0.000000</td>\n",
       "      <td>0.000000</td>\n",
       "      <td>0.000000</td>\n",
       "    </tr>\n",
       "    <tr>\n",
       "      <th>...</th>\n",
       "      <td>...</td>\n",
       "      <td>...</td>\n",
       "      <td>...</td>\n",
       "      <td>...</td>\n",
       "      <td>...</td>\n",
       "      <td>...</td>\n",
       "      <td>...</td>\n",
       "      <td>...</td>\n",
       "      <td>...</td>\n",
       "      <td>...</td>\n",
       "    </tr>\n",
       "    <tr>\n",
       "      <th>140572</th>\n",
       "      <td>2021-10-29</td>\n",
       "      <td>UNH</td>\n",
       "      <td>449.991602</td>\n",
       "      <td>456.903744</td>\n",
       "      <td>448.654722</td>\n",
       "      <td>455.992676</td>\n",
       "      <td>2497800.0</td>\n",
       "      <td>65.073663</td>\n",
       "      <td>413.718763</td>\n",
       "      <td>412.824562</td>\n",
       "    </tr>\n",
       "    <tr>\n",
       "      <th>140575</th>\n",
       "      <td>2021-10-29</td>\n",
       "      <td>V</td>\n",
       "      <td>208.105676</td>\n",
       "      <td>212.542125</td>\n",
       "      <td>207.439200</td>\n",
       "      <td>210.652161</td>\n",
       "      <td>14329800.0</td>\n",
       "      <td>44.866255</td>\n",
       "      <td>224.879986</td>\n",
       "      <td>227.021134</td>\n",
       "    </tr>\n",
       "    <tr>\n",
       "      <th>140574</th>\n",
       "      <td>2021-10-29</td>\n",
       "      <td>VZ</td>\n",
       "      <td>51.250939</td>\n",
       "      <td>51.787852</td>\n",
       "      <td>51.163080</td>\n",
       "      <td>51.729282</td>\n",
       "      <td>17763200.0</td>\n",
       "      <td>46.768944</td>\n",
       "      <td>51.809784</td>\n",
       "      <td>52.472365</td>\n",
       "    </tr>\n",
       "    <tr>\n",
       "      <th>140576</th>\n",
       "      <td>2021-10-29</td>\n",
       "      <td>WBA</td>\n",
       "      <td>45.414664</td>\n",
       "      <td>45.821708</td>\n",
       "      <td>45.327440</td>\n",
       "      <td>45.569729</td>\n",
       "      <td>4999000.0</td>\n",
       "      <td>42.857130</td>\n",
       "      <td>46.521763</td>\n",
       "      <td>47.068580</td>\n",
       "    </tr>\n",
       "    <tr>\n",
       "      <th>140577</th>\n",
       "      <td>2021-10-29</td>\n",
       "      <td>WMT</td>\n",
       "      <td>146.217791</td>\n",
       "      <td>148.382738</td>\n",
       "      <td>145.871790</td>\n",
       "      <td>147.710510</td>\n",
       "      <td>7340900.0</td>\n",
       "      <td>57.362636</td>\n",
       "      <td>140.781036</td>\n",
       "      <td>143.417337</td>\n",
       "    </tr>\n",
       "  </tbody>\n",
       "</table>\n",
       "<p>96930 rows × 10 columns</p>\n",
       "</div>"
      ],
      "text/plain": [
       "              date   tic        open        high         low       close  \\\n",
       "2       2008-12-31  AAPL    2.625210    2.679259    2.605972    2.606277   \n",
       "1       2008-12-31  AMGN   43.437657   44.281920   43.399628   43.924438   \n",
       "0       2008-12-31   AXP   14.442319   15.069198   14.394098   14.908460   \n",
       "3       2008-12-31    BA   31.195798   32.290913   31.128291   32.005882   \n",
       "4       2008-12-31   CAT   29.963725   30.923660   29.963725   30.628822   \n",
       "...            ...   ...         ...         ...         ...         ...   \n",
       "140572  2021-10-29   UNH  449.991602  456.903744  448.654722  455.992676   \n",
       "140575  2021-10-29     V  208.105676  212.542125  207.439200  210.652161   \n",
       "140574  2021-10-29    VZ   51.250939   51.787852   51.163080   51.729282   \n",
       "140576  2021-10-29   WBA   45.414664   45.821708   45.327440   45.569729   \n",
       "140577  2021-10-29   WMT  146.217791  148.382738  145.871790  147.710510   \n",
       "\n",
       "             volume     rsi_30       ma_30       ma_60  \n",
       "2       607541200.0   0.000000    0.000000    0.000000  \n",
       "1         6287200.0   0.000000    0.000000    0.000000  \n",
       "0         9625600.0   0.000000    0.000000    0.000000  \n",
       "3         5443100.0   0.000000    0.000000    0.000000  \n",
       "4         6277400.0   0.000000    0.000000    0.000000  \n",
       "...             ...        ...         ...         ...  \n",
       "140572    2497800.0  65.073663  413.718763  412.824562  \n",
       "140575   14329800.0  44.866255  224.879986  227.021134  \n",
       "140574   17763200.0  46.768944   51.809784   52.472365  \n",
       "140576    4999000.0  42.857130   46.521763   47.068580  \n",
       "140577    7340900.0  57.362636  140.781036  143.417337  \n",
       "\n",
       "[96930 rows x 10 columns]"
      ]
     },
     "execution_count": 4,
     "metadata": {},
     "output_type": "execute_result"
    }
   ],
   "source": [
    "list_ticker = processed[\"tic\"].unique().tolist()\n",
    "list_date = list(pd.date_range(processed['date'].min(),processed['date'].max()).astype(str))\n",
    "combination = list(itertools.product(list_date,list_ticker))\n",
    "\n",
    "processed_full = pd.DataFrame(combination,columns=[\"date\",\"tic\"]).merge(processed,on=[\"date\",\"tic\"],how=\"left\")\n",
    "processed_full = processed_full[processed_full['date'].isin(processed['date'])]\n",
    "processed_full = processed_full.sort_values(['date','tic'])\n",
    "\n",
    "processed_full = processed_full.fillna(0)\n",
    "processed_full"
   ]
  },
  {
   "cell_type": "code",
   "execution_count": 5,
   "metadata": {},
   "outputs": [
    {
     "data": {
      "text/plain": [
       "0"
      ]
     },
     "execution_count": 5,
     "metadata": {},
     "output_type": "execute_result"
    }
   ],
   "source": [
    "processed_full.isnull().sum().sum()"
   ]
  },
  {
   "cell_type": "markdown",
   "metadata": {
    "id": "-QsYaY0Dh1iw"
   },
   "source": [
    "<a id='4'></a>\n",
    "# Part 5. Design Environment\n",
    "Considering the stochastic and interactive nature of the automated stock trading tasks, a financial task is modeled as a **Markov Decision Process (MDP)** problem. The training process involves observing stock price change, taking an action and reward's calculation to have the agent adjusting its strategy accordingly. By interacting with the environment, the trading agent will derive a trading strategy with the maximized rewards as time proceeds.\n",
    "\n",
    "Our trading environments, based on OpenAI Gym framework, simulate live stock markets with real market data according to the principle of time-driven simulation.\n",
    "\n",
    "The action space describes the allowed actions that the agent interacts with the environment. Normally, action a includes three actions: {-1, 0, 1}, where -1, 0, 1 represent selling, holding, and buying one share. Also, an action can be carried upon multiple shares. We use an action space {-k,…,-1, 0, 1, …, k}, where k denotes the number of shares to buy and -k denotes the number of shares to sell. For example, \"Buy 10 shares of AAPL\" or \"Sell 10 shares of AAPL\" are 10 or -10, respectively. The continuous action space needs to be normalized to [-1, 1], since the policy is defined on a Gaussian distribution, which needs to be normalized and symmetric."
   ]
  },
  {
   "cell_type": "markdown",
   "metadata": {
    "id": "5TOhcryx44bb"
   },
   "source": [
    "## Training data split: 2009-01-01 to 2020-07-01\n",
    "## Trade data split: 2020-07-01 to 2021-10-31"
   ]
  },
  {
   "cell_type": "code",
   "execution_count": 6,
   "metadata": {
    "colab": {
     "base_uri": "https://localhost:8080/"
    },
    "id": "W0qaVGjLtgbI",
    "outputId": "ca8d1a43-ffc3-4fc3-efa9-4de9a9065842"
   },
   "outputs": [
    {
     "name": "stdout",
     "output_type": "stream",
     "text": [
      "86790\n",
      "10110\n"
     ]
    }
   ],
   "source": [
    "train = data_split(processed_full, '2009-01-01','2020-07-01')\n",
    "trade = data_split(processed_full, '2020-07-01','2021-10-31')\n",
    "print(len(train))\n",
    "print(len(trade))"
   ]
  },
  {
   "cell_type": "code",
   "execution_count": 7,
   "metadata": {
    "colab": {
     "base_uri": "https://localhost:8080/",
     "height": 357
    },
    "id": "p52zNCOhTtLR",
    "outputId": "b3ad3e10-376f-4186-f875-0331708c5e14"
   },
   "outputs": [
    {
     "data": {
      "text/html": [
       "<div>\n",
       "<style scoped>\n",
       "    .dataframe tbody tr th:only-of-type {\n",
       "        vertical-align: middle;\n",
       "    }\n",
       "\n",
       "    .dataframe tbody tr th {\n",
       "        vertical-align: top;\n",
       "    }\n",
       "\n",
       "    .dataframe thead th {\n",
       "        text-align: right;\n",
       "    }\n",
       "</style>\n",
       "<table border=\"1\" class=\"dataframe\">\n",
       "  <thead>\n",
       "    <tr style=\"text-align: right;\">\n",
       "      <th></th>\n",
       "      <th>date</th>\n",
       "      <th>tic</th>\n",
       "      <th>open</th>\n",
       "      <th>high</th>\n",
       "      <th>low</th>\n",
       "      <th>close</th>\n",
       "      <th>volume</th>\n",
       "      <th>rsi_30</th>\n",
       "      <th>ma_30</th>\n",
       "      <th>ma_60</th>\n",
       "    </tr>\n",
       "  </thead>\n",
       "  <tbody>\n",
       "    <tr>\n",
       "      <th>2892</th>\n",
       "      <td>2020-06-30</td>\n",
       "      <td>UNH</td>\n",
       "      <td>280.551458</td>\n",
       "      <td>288.212500</td>\n",
       "      <td>279.666741</td>\n",
       "      <td>286.754181</td>\n",
       "      <td>2932900.0</td>\n",
       "      <td>51.124588</td>\n",
       "      <td>286.997206</td>\n",
       "      <td>280.002900</td>\n",
       "    </tr>\n",
       "    <tr>\n",
       "      <th>2892</th>\n",
       "      <td>2020-06-30</td>\n",
       "      <td>V</td>\n",
       "      <td>189.078409</td>\n",
       "      <td>191.309941</td>\n",
       "      <td>187.765157</td>\n",
       "      <td>190.737244</td>\n",
       "      <td>9040100.0</td>\n",
       "      <td>51.233292</td>\n",
       "      <td>191.485037</td>\n",
       "      <td>181.677682</td>\n",
       "    </tr>\n",
       "    <tr>\n",
       "      <th>2892</th>\n",
       "      <td>2020-06-30</td>\n",
       "      <td>VZ</td>\n",
       "      <td>50.184847</td>\n",
       "      <td>50.522948</td>\n",
       "      <td>49.673132</td>\n",
       "      <td>50.376743</td>\n",
       "      <td>17414800.0</td>\n",
       "      <td>48.465929</td>\n",
       "      <td>51.012122</td>\n",
       "      <td>51.464679</td>\n",
       "    </tr>\n",
       "    <tr>\n",
       "      <th>2892</th>\n",
       "      <td>2020-06-30</td>\n",
       "      <td>WBA</td>\n",
       "      <td>38.787097</td>\n",
       "      <td>39.210700</td>\n",
       "      <td>38.455582</td>\n",
       "      <td>39.035732</td>\n",
       "      <td>4782100.0</td>\n",
       "      <td>53.660862</td>\n",
       "      <td>39.135189</td>\n",
       "      <td>38.935129</td>\n",
       "    </tr>\n",
       "    <tr>\n",
       "      <th>2892</th>\n",
       "      <td>2020-06-30</td>\n",
       "      <td>WMT</td>\n",
       "      <td>115.578878</td>\n",
       "      <td>116.461082</td>\n",
       "      <td>114.919646</td>\n",
       "      <td>116.121773</td>\n",
       "      <td>6836400.0</td>\n",
       "      <td>35.064439</td>\n",
       "      <td>117.787627</td>\n",
       "      <td>119.723275</td>\n",
       "    </tr>\n",
       "  </tbody>\n",
       "</table>\n",
       "</div>"
      ],
      "text/plain": [
       "            date  tic        open        high         low       close  \\\n",
       "2892  2020-06-30  UNH  280.551458  288.212500  279.666741  286.754181   \n",
       "2892  2020-06-30    V  189.078409  191.309941  187.765157  190.737244   \n",
       "2892  2020-06-30   VZ   50.184847   50.522948   49.673132   50.376743   \n",
       "2892  2020-06-30  WBA   38.787097   39.210700   38.455582   39.035732   \n",
       "2892  2020-06-30  WMT  115.578878  116.461082  114.919646  116.121773   \n",
       "\n",
       "          volume     rsi_30       ma_30       ma_60  \n",
       "2892   2932900.0  51.124588  286.997206  280.002900  \n",
       "2892   9040100.0  51.233292  191.485037  181.677682  \n",
       "2892  17414800.0  48.465929   51.012122   51.464679  \n",
       "2892   4782100.0  53.660862   39.135189   38.935129  \n",
       "2892   6836400.0  35.064439  117.787627  119.723275  "
      ]
     },
     "execution_count": 7,
     "metadata": {},
     "output_type": "execute_result"
    }
   ],
   "source": [
    "train.tail()"
   ]
  },
  {
   "cell_type": "code",
   "execution_count": 8,
   "metadata": {
    "colab": {
     "base_uri": "https://localhost:8080/",
     "height": 357
    },
    "id": "k9zU9YaTTvFq",
    "outputId": "72213585-39a3-4bff-c031-874ec0ca06f9"
   },
   "outputs": [
    {
     "data": {
      "text/html": [
       "<div>\n",
       "<style scoped>\n",
       "    .dataframe tbody tr th:only-of-type {\n",
       "        vertical-align: middle;\n",
       "    }\n",
       "\n",
       "    .dataframe tbody tr th {\n",
       "        vertical-align: top;\n",
       "    }\n",
       "\n",
       "    .dataframe thead th {\n",
       "        text-align: right;\n",
       "    }\n",
       "</style>\n",
       "<table border=\"1\" class=\"dataframe\">\n",
       "  <thead>\n",
       "    <tr style=\"text-align: right;\">\n",
       "      <th></th>\n",
       "      <th>date</th>\n",
       "      <th>tic</th>\n",
       "      <th>open</th>\n",
       "      <th>high</th>\n",
       "      <th>low</th>\n",
       "      <th>close</th>\n",
       "      <th>volume</th>\n",
       "      <th>rsi_30</th>\n",
       "      <th>ma_30</th>\n",
       "      <th>ma_60</th>\n",
       "    </tr>\n",
       "  </thead>\n",
       "  <tbody>\n",
       "    <tr>\n",
       "      <th>0</th>\n",
       "      <td>2020-07-01</td>\n",
       "      <td>AAPL</td>\n",
       "      <td>90.153990</td>\n",
       "      <td>90.707079</td>\n",
       "      <td>89.855223</td>\n",
       "      <td>89.904602</td>\n",
       "      <td>110737200.0</td>\n",
       "      <td>67.961048</td>\n",
       "      <td>83.933766</td>\n",
       "      <td>77.717543</td>\n",
       "    </tr>\n",
       "    <tr>\n",
       "      <th>0</th>\n",
       "      <td>2020-07-01</td>\n",
       "      <td>AMGN</td>\n",
       "      <td>221.703745</td>\n",
       "      <td>241.198845</td>\n",
       "      <td>218.936211</td>\n",
       "      <td>240.153946</td>\n",
       "      <td>6575800.0</td>\n",
       "      <td>63.126934</td>\n",
       "      <td>214.858664</td>\n",
       "      <td>215.931667</td>\n",
       "    </tr>\n",
       "    <tr>\n",
       "      <th>0</th>\n",
       "      <td>2020-07-01</td>\n",
       "      <td>AXP</td>\n",
       "      <td>93.261315</td>\n",
       "      <td>94.935612</td>\n",
       "      <td>91.684929</td>\n",
       "      <td>92.086372</td>\n",
       "      <td>3301000.0</td>\n",
       "      <td>54.344115</td>\n",
       "      <td>97.244638</td>\n",
       "      <td>90.695525</td>\n",
       "    </tr>\n",
       "    <tr>\n",
       "      <th>0</th>\n",
       "      <td>2020-07-01</td>\n",
       "      <td>BA</td>\n",
       "      <td>185.880005</td>\n",
       "      <td>190.610001</td>\n",
       "      <td>180.039993</td>\n",
       "      <td>180.320007</td>\n",
       "      <td>49036700.0</td>\n",
       "      <td>59.284491</td>\n",
       "      <td>176.472335</td>\n",
       "      <td>155.614168</td>\n",
       "    </tr>\n",
       "    <tr>\n",
       "      <th>0</th>\n",
       "      <td>2020-07-01</td>\n",
       "      <td>CAT</td>\n",
       "      <td>123.829203</td>\n",
       "      <td>123.848334</td>\n",
       "      <td>120.479356</td>\n",
       "      <td>120.651634</td>\n",
       "      <td>2807800.0</td>\n",
       "      <td>58.750628</td>\n",
       "      <td>119.412838</td>\n",
       "      <td>113.646676</td>\n",
       "    </tr>\n",
       "  </tbody>\n",
       "</table>\n",
       "</div>"
      ],
      "text/plain": [
       "         date   tic        open        high         low       close  \\\n",
       "0  2020-07-01  AAPL   90.153990   90.707079   89.855223   89.904602   \n",
       "0  2020-07-01  AMGN  221.703745  241.198845  218.936211  240.153946   \n",
       "0  2020-07-01   AXP   93.261315   94.935612   91.684929   92.086372   \n",
       "0  2020-07-01    BA  185.880005  190.610001  180.039993  180.320007   \n",
       "0  2020-07-01   CAT  123.829203  123.848334  120.479356  120.651634   \n",
       "\n",
       "        volume     rsi_30       ma_30       ma_60  \n",
       "0  110737200.0  67.961048   83.933766   77.717543  \n",
       "0    6575800.0  63.126934  214.858664  215.931667  \n",
       "0    3301000.0  54.344115   97.244638   90.695525  \n",
       "0   49036700.0  59.284491  176.472335  155.614168  \n",
       "0    2807800.0  58.750628  119.412838  113.646676  "
      ]
     },
     "execution_count": 8,
     "metadata": {},
     "output_type": "execute_result"
    }
   ],
   "source": [
    "trade.head()"
   ]
  },
  {
   "cell_type": "code",
   "execution_count": 9,
   "metadata": {
    "colab": {
     "base_uri": "https://localhost:8080/"
    },
    "id": "zYN573SOHhxG",
    "outputId": "7f228183-abe3-4477-f574-3c9b25c62cd8",
    "scrolled": true
   },
   "outputs": [],
   "source": [
    "INDICATORS = ['rsi_30', 'ma_30','ma_60']"
   ]
  },
  {
   "cell_type": "code",
   "execution_count": 10,
   "metadata": {
    "colab": {
     "base_uri": "https://localhost:8080/"
    },
    "id": "Q2zqII8rMIqn",
    "outputId": "1f54d044-e2d3-4a34-c041-e913d686654e"
   },
   "outputs": [
    {
     "name": "stdout",
     "output_type": "stream",
     "text": [
      "Stock Dimension: 30, State Space: 151\n"
     ]
    }
   ],
   "source": [
    "stock_dimension = len(train.tic.unique())\n",
    "state_space = 1 + 2*stock_dimension + len(INDICATORS)*stock_dimension\n",
    "print(f\"Stock Dimension: {stock_dimension}, State Space: {state_space}\")\n"
   ]
  },
  {
   "cell_type": "code",
   "execution_count": 11,
   "metadata": {
    "id": "AWyp84Ltto19"
   },
   "outputs": [],
   "source": [
    "buy_cost_list = sell_cost_list = [0.001] * stock_dimension\n",
    "num_stock_shares = [0] * stock_dimension\n",
    "\n",
    "env_kwargs = {\n",
    "    \"hmax\": 100,\n",
    "    \"initial_amount\": 1000000,\n",
    "    \"num_stock_shares\": num_stock_shares,\n",
    "    \"buy_cost_pct\": buy_cost_list,\n",
    "    \"sell_cost_pct\": sell_cost_list,\n",
    "    \"state_space\": state_space,\n",
    "    \"stock_dim\": stock_dimension,\n",
    "    \"tech_indicator_list\": INDICATORS,\n",
    "    \"action_space\": stock_dimension,\n",
    "    \"reward_scaling\": 1e-4\n",
    "}\n",
    "e_train_gym = StockTradingEnv(df = train, **env_kwargs)"
   ]
  },
  {
   "cell_type": "markdown",
   "metadata": {
    "id": "64EoqOrQjiVf"
   },
   "source": [
    "## Environment for Training\n",
    "\n"
   ]
  },
  {
   "cell_type": "code",
   "execution_count": 12,
   "metadata": {
    "colab": {
     "base_uri": "https://localhost:8080/"
    },
    "id": "xwSvvPjutpqS",
    "outputId": "deeaef07-afda-4ca1-fea8-99384224c7cf"
   },
   "outputs": [
    {
     "name": "stdout",
     "output_type": "stream",
     "text": [
      "<class 'stable_baselines3.common.vec_env.dummy_vec_env.DummyVecEnv'>\n"
     ]
    }
   ],
   "source": [
    "env_train, _ = e_train_gym.get_sb_env()\n",
    "print(type(env_train))"
   ]
  },
  {
   "cell_type": "markdown",
   "metadata": {
    "id": "HMNR5nHjh1iz"
   },
   "source": [
    "<a id='5'></a>\n",
    "# Part 6: Implement DRL Algorithms\n",
    "* The implementation of the DRL algorithms are based on **OpenAI Baselines** and **Stable Baselines**. Stable Baselines is a fork of OpenAI Baselines, with a major structural refactoring, and code cleanups.\n",
    "* FinRL library includes fine-tuned standard DRL algorithms, such as DQN, DDPG,\n",
    "Multi-Agent DDPG, PPO, SAC, A2C and TD3. We also allow users to\n",
    "design their own DRL algorithms by adapting these DRL algorithms."
   ]
  },
  {
   "cell_type": "code",
   "execution_count": 13,
   "metadata": {
    "id": "364PsqckttcQ"
   },
   "outputs": [],
   "source": [
    "agent = DRLAgent(env = env_train)"
   ]
  },
  {
   "cell_type": "markdown",
   "metadata": {
    "id": "YDmqOyF9h1iz"
   },
   "source": [
    "### Model Training: 5 models, A2C DDPG, PPO, TD3, SAC\n"
   ]
  },
  {
   "cell_type": "markdown",
   "metadata": {
    "id": "uijiWgkuh1jB"
   },
   "source": [
    "### Model 1: A2C\n"
   ]
  },
  {
   "cell_type": "code",
   "execution_count": 14,
   "metadata": {
    "colab": {
     "base_uri": "https://localhost:8080/"
    },
    "id": "GUCnkn-HIbmj",
    "outputId": "a90a7a60-21a5-47e1-b683-1f7cbb4b8bc0"
   },
   "outputs": [
    {
     "name": "stdout",
     "output_type": "stream",
     "text": [
      "{'n_steps': 5, 'ent_coef': 0.01, 'learning_rate': 0.0007}\n",
      "Using cpu device\n"
     ]
    }
   ],
   "source": [
    "agent = DRLAgent(env = env_train)\n",
    "model_a2c = agent.get_model(\"a2c\")"
   ]
  },
  {
   "cell_type": "code",
   "execution_count": 15,
   "metadata": {
    "colab": {
     "base_uri": "https://localhost:8080/",
     "height": 1000
    },
    "id": "0GVpkWGqH4-D",
    "outputId": "570d540f-abe9-402b-e0cc-f9b007228e8e"
   },
   "outputs": [
    {
     "name": "stderr",
     "output_type": "stream",
     "text": [
      "/mnt/recoverData/linuxProgram/workspace/Finrl_python3.9/finrl/finrl_meta/env_stock_trading/env_stocktrading.py:158: RuntimeWarning: divide by zero encountered in double_scalars\n",
      "  available_amount = self.state[0] / (self.state[index + 1]*(1 + self.buy_cost_pct[index])) # when buying stocks, we should consider the cost of trading when calculating available_amount, or we may be have cash<0\n",
      "/mnt/recoverData/linuxProgram/workspace/Finrl_python3.9/finrl/finrl_meta/env_stock_trading/env_stocktrading.py:158: RuntimeWarning: invalid value encountered in double_scalars\n",
      "  available_amount = self.state[0] / (self.state[index + 1]*(1 + self.buy_cost_pct[index])) # when buying stocks, we should consider the cost of trading when calculating available_amount, or we may be have cash<0\n"
     ]
    },
    {
     "ename": "ValueError",
     "evalue": "cannot convert float NaN to integer",
     "output_type": "error",
     "traceback": [
      "\u001b[0;31m---------------------------------------------------------------------------\u001b[0m",
      "\u001b[0;31mValueError\u001b[0m                                Traceback (most recent call last)",
      "\u001b[0;32m<ipython-input-15-10fe1e0717a3>\u001b[0m in \u001b[0;36m<module>\u001b[0;34m\u001b[0m\n\u001b[0;32m----> 1\u001b[0;31m trained_a2c = agent.train_model(model=model_a2c, \n\u001b[0m\u001b[1;32m      2\u001b[0m                              \u001b[0mtb_log_name\u001b[0m\u001b[0;34m=\u001b[0m\u001b[0;34m'a2c'\u001b[0m\u001b[0;34m,\u001b[0m\u001b[0;34m\u001b[0m\u001b[0;34m\u001b[0m\u001b[0m\n\u001b[1;32m      3\u001b[0m                              total_timesteps=50000)\n",
      "\u001b[0;32m/mnt/recoverData/linuxProgram/workspace/Finrl_python3.9/finrl/agents/stablebaselines3/models.py\u001b[0m in \u001b[0;36mtrain_model\u001b[0;34m(self, model, tb_log_name, total_timesteps)\u001b[0m\n\u001b[1;32m     98\u001b[0m \u001b[0;34m\u001b[0m\u001b[0m\n\u001b[1;32m     99\u001b[0m     \u001b[0;32mdef\u001b[0m \u001b[0mtrain_model\u001b[0m\u001b[0;34m(\u001b[0m\u001b[0mself\u001b[0m\u001b[0;34m,\u001b[0m \u001b[0mmodel\u001b[0m\u001b[0;34m,\u001b[0m \u001b[0mtb_log_name\u001b[0m\u001b[0;34m,\u001b[0m \u001b[0mtotal_timesteps\u001b[0m\u001b[0;34m=\u001b[0m\u001b[0;36m5000\u001b[0m\u001b[0;34m)\u001b[0m\u001b[0;34m:\u001b[0m\u001b[0;34m\u001b[0m\u001b[0;34m\u001b[0m\u001b[0m\n\u001b[0;32m--> 100\u001b[0;31m         model = model.learn(\n\u001b[0m\u001b[1;32m    101\u001b[0m             \u001b[0mtotal_timesteps\u001b[0m\u001b[0;34m=\u001b[0m\u001b[0mtotal_timesteps\u001b[0m\u001b[0;34m,\u001b[0m\u001b[0;34m\u001b[0m\u001b[0;34m\u001b[0m\u001b[0m\n\u001b[1;32m    102\u001b[0m             \u001b[0mtb_log_name\u001b[0m\u001b[0;34m=\u001b[0m\u001b[0mtb_log_name\u001b[0m\u001b[0;34m,\u001b[0m\u001b[0;34m\u001b[0m\u001b[0;34m\u001b[0m\u001b[0m\n",
      "\u001b[0;32m/mnt/recoverData/linuxProgram/workspace/Finrl_python3.9/__pypackages__/3.9/lib/stable_baselines3/a2c/a2c.py\u001b[0m in \u001b[0;36mlearn\u001b[0;34m(self, total_timesteps, callback, log_interval, eval_env, eval_freq, n_eval_episodes, tb_log_name, eval_log_path, reset_num_timesteps)\u001b[0m\n\u001b[1;32m    189\u001b[0m     ) -> \"A2C\":\n\u001b[1;32m    190\u001b[0m \u001b[0;34m\u001b[0m\u001b[0m\n\u001b[0;32m--> 191\u001b[0;31m         return super(A2C, self).learn(\n\u001b[0m\u001b[1;32m    192\u001b[0m             \u001b[0mtotal_timesteps\u001b[0m\u001b[0;34m=\u001b[0m\u001b[0mtotal_timesteps\u001b[0m\u001b[0;34m,\u001b[0m\u001b[0;34m\u001b[0m\u001b[0;34m\u001b[0m\u001b[0m\n\u001b[1;32m    193\u001b[0m             \u001b[0mcallback\u001b[0m\u001b[0;34m=\u001b[0m\u001b[0mcallback\u001b[0m\u001b[0;34m,\u001b[0m\u001b[0;34m\u001b[0m\u001b[0;34m\u001b[0m\u001b[0m\n",
      "\u001b[0;32m/mnt/recoverData/linuxProgram/workspace/Finrl_python3.9/__pypackages__/3.9/lib/stable_baselines3/common/on_policy_algorithm.py\u001b[0m in \u001b[0;36mlearn\u001b[0;34m(self, total_timesteps, callback, log_interval, eval_env, eval_freq, n_eval_episodes, tb_log_name, eval_log_path, reset_num_timesteps)\u001b[0m\n\u001b[1;32m    248\u001b[0m         \u001b[0;32mwhile\u001b[0m \u001b[0mself\u001b[0m\u001b[0;34m.\u001b[0m\u001b[0mnum_timesteps\u001b[0m \u001b[0;34m<\u001b[0m \u001b[0mtotal_timesteps\u001b[0m\u001b[0;34m:\u001b[0m\u001b[0;34m\u001b[0m\u001b[0;34m\u001b[0m\u001b[0m\n\u001b[1;32m    249\u001b[0m \u001b[0;34m\u001b[0m\u001b[0m\n\u001b[0;32m--> 250\u001b[0;31m             \u001b[0mcontinue_training\u001b[0m \u001b[0;34m=\u001b[0m \u001b[0mself\u001b[0m\u001b[0;34m.\u001b[0m\u001b[0mcollect_rollouts\u001b[0m\u001b[0;34m(\u001b[0m\u001b[0mself\u001b[0m\u001b[0;34m.\u001b[0m\u001b[0menv\u001b[0m\u001b[0;34m,\u001b[0m \u001b[0mcallback\u001b[0m\u001b[0;34m,\u001b[0m \u001b[0mself\u001b[0m\u001b[0;34m.\u001b[0m\u001b[0mrollout_buffer\u001b[0m\u001b[0;34m,\u001b[0m \u001b[0mn_rollout_steps\u001b[0m\u001b[0;34m=\u001b[0m\u001b[0mself\u001b[0m\u001b[0;34m.\u001b[0m\u001b[0mn_steps\u001b[0m\u001b[0;34m)\u001b[0m\u001b[0;34m\u001b[0m\u001b[0;34m\u001b[0m\u001b[0m\n\u001b[0m\u001b[1;32m    251\u001b[0m \u001b[0;34m\u001b[0m\u001b[0m\n\u001b[1;32m    252\u001b[0m             \u001b[0;32mif\u001b[0m \u001b[0mcontinue_training\u001b[0m \u001b[0;32mis\u001b[0m \u001b[0;32mFalse\u001b[0m\u001b[0;34m:\u001b[0m\u001b[0;34m\u001b[0m\u001b[0;34m\u001b[0m\u001b[0m\n",
      "\u001b[0;32m/mnt/recoverData/linuxProgram/workspace/Finrl_python3.9/__pypackages__/3.9/lib/stable_baselines3/common/on_policy_algorithm.py\u001b[0m in \u001b[0;36mcollect_rollouts\u001b[0;34m(self, env, callback, rollout_buffer, n_rollout_steps)\u001b[0m\n\u001b[1;32m    176\u001b[0m                 \u001b[0mclipped_actions\u001b[0m \u001b[0;34m=\u001b[0m \u001b[0mnp\u001b[0m\u001b[0;34m.\u001b[0m\u001b[0mclip\u001b[0m\u001b[0;34m(\u001b[0m\u001b[0mactions\u001b[0m\u001b[0;34m,\u001b[0m \u001b[0mself\u001b[0m\u001b[0;34m.\u001b[0m\u001b[0maction_space\u001b[0m\u001b[0;34m.\u001b[0m\u001b[0mlow\u001b[0m\u001b[0;34m,\u001b[0m \u001b[0mself\u001b[0m\u001b[0;34m.\u001b[0m\u001b[0maction_space\u001b[0m\u001b[0;34m.\u001b[0m\u001b[0mhigh\u001b[0m\u001b[0;34m)\u001b[0m\u001b[0;34m\u001b[0m\u001b[0;34m\u001b[0m\u001b[0m\n\u001b[1;32m    177\u001b[0m \u001b[0;34m\u001b[0m\u001b[0m\n\u001b[0;32m--> 178\u001b[0;31m             \u001b[0mnew_obs\u001b[0m\u001b[0;34m,\u001b[0m \u001b[0mrewards\u001b[0m\u001b[0;34m,\u001b[0m \u001b[0mdones\u001b[0m\u001b[0;34m,\u001b[0m \u001b[0minfos\u001b[0m \u001b[0;34m=\u001b[0m \u001b[0menv\u001b[0m\u001b[0;34m.\u001b[0m\u001b[0mstep\u001b[0m\u001b[0;34m(\u001b[0m\u001b[0mclipped_actions\u001b[0m\u001b[0;34m)\u001b[0m\u001b[0;34m\u001b[0m\u001b[0;34m\u001b[0m\u001b[0m\n\u001b[0m\u001b[1;32m    179\u001b[0m \u001b[0;34m\u001b[0m\u001b[0m\n\u001b[1;32m    180\u001b[0m             \u001b[0mself\u001b[0m\u001b[0;34m.\u001b[0m\u001b[0mnum_timesteps\u001b[0m \u001b[0;34m+=\u001b[0m \u001b[0menv\u001b[0m\u001b[0;34m.\u001b[0m\u001b[0mnum_envs\u001b[0m\u001b[0;34m\u001b[0m\u001b[0;34m\u001b[0m\u001b[0m\n",
      "\u001b[0;32m/mnt/recoverData/linuxProgram/workspace/Finrl_python3.9/__pypackages__/3.9/lib/stable_baselines3/common/vec_env/base_vec_env.py\u001b[0m in \u001b[0;36mstep\u001b[0;34m(self, actions)\u001b[0m\n\u001b[1;32m    160\u001b[0m         \"\"\"\n\u001b[1;32m    161\u001b[0m         \u001b[0mself\u001b[0m\u001b[0;34m.\u001b[0m\u001b[0mstep_async\u001b[0m\u001b[0;34m(\u001b[0m\u001b[0mactions\u001b[0m\u001b[0;34m)\u001b[0m\u001b[0;34m\u001b[0m\u001b[0;34m\u001b[0m\u001b[0m\n\u001b[0;32m--> 162\u001b[0;31m         \u001b[0;32mreturn\u001b[0m \u001b[0mself\u001b[0m\u001b[0;34m.\u001b[0m\u001b[0mstep_wait\u001b[0m\u001b[0;34m(\u001b[0m\u001b[0;34m)\u001b[0m\u001b[0;34m\u001b[0m\u001b[0;34m\u001b[0m\u001b[0m\n\u001b[0m\u001b[1;32m    163\u001b[0m \u001b[0;34m\u001b[0m\u001b[0m\n\u001b[1;32m    164\u001b[0m     \u001b[0;32mdef\u001b[0m \u001b[0mget_images\u001b[0m\u001b[0;34m(\u001b[0m\u001b[0mself\u001b[0m\u001b[0;34m)\u001b[0m \u001b[0;34m->\u001b[0m \u001b[0mSequence\u001b[0m\u001b[0;34m[\u001b[0m\u001b[0mnp\u001b[0m\u001b[0;34m.\u001b[0m\u001b[0mndarray\u001b[0m\u001b[0;34m]\u001b[0m\u001b[0;34m:\u001b[0m\u001b[0;34m\u001b[0m\u001b[0;34m\u001b[0m\u001b[0m\n",
      "\u001b[0;32m/mnt/recoverData/linuxProgram/workspace/Finrl_python3.9/__pypackages__/3.9/lib/stable_baselines3/common/vec_env/dummy_vec_env.py\u001b[0m in \u001b[0;36mstep_wait\u001b[0;34m(self)\u001b[0m\n\u001b[1;32m     41\u001b[0m     \u001b[0;32mdef\u001b[0m \u001b[0mstep_wait\u001b[0m\u001b[0;34m(\u001b[0m\u001b[0mself\u001b[0m\u001b[0;34m)\u001b[0m \u001b[0;34m->\u001b[0m \u001b[0mVecEnvStepReturn\u001b[0m\u001b[0;34m:\u001b[0m\u001b[0;34m\u001b[0m\u001b[0;34m\u001b[0m\u001b[0m\n\u001b[1;32m     42\u001b[0m         \u001b[0;32mfor\u001b[0m \u001b[0menv_idx\u001b[0m \u001b[0;32min\u001b[0m \u001b[0mrange\u001b[0m\u001b[0;34m(\u001b[0m\u001b[0mself\u001b[0m\u001b[0;34m.\u001b[0m\u001b[0mnum_envs\u001b[0m\u001b[0;34m)\u001b[0m\u001b[0;34m:\u001b[0m\u001b[0;34m\u001b[0m\u001b[0;34m\u001b[0m\u001b[0m\n\u001b[0;32m---> 43\u001b[0;31m             obs, self.buf_rews[env_idx], self.buf_dones[env_idx], self.buf_infos[env_idx] = self.envs[env_idx].step(\n\u001b[0m\u001b[1;32m     44\u001b[0m                 \u001b[0mself\u001b[0m\u001b[0;34m.\u001b[0m\u001b[0mactions\u001b[0m\u001b[0;34m[\u001b[0m\u001b[0menv_idx\u001b[0m\u001b[0;34m]\u001b[0m\u001b[0;34m\u001b[0m\u001b[0;34m\u001b[0m\u001b[0m\n\u001b[1;32m     45\u001b[0m             )\n",
      "\u001b[0;32m/mnt/recoverData/linuxProgram/workspace/Finrl_python3.9/finrl/finrl_meta/env_stock_trading/env_stocktrading.py\u001b[0m in \u001b[0;36mstep\u001b[0;34m(self, actions)\u001b[0m\n\u001b[1;32m    302\u001b[0m             \u001b[0;32mfor\u001b[0m \u001b[0mindex\u001b[0m \u001b[0;32min\u001b[0m \u001b[0mbuy_index\u001b[0m\u001b[0;34m:\u001b[0m\u001b[0;34m\u001b[0m\u001b[0;34m\u001b[0m\u001b[0m\n\u001b[1;32m    303\u001b[0m                 \u001b[0;31m# print('take buy action: {}'.format(actions[index]))\u001b[0m\u001b[0;34m\u001b[0m\u001b[0;34m\u001b[0m\u001b[0m\n\u001b[0;32m--> 304\u001b[0;31m                 \u001b[0mactions\u001b[0m\u001b[0;34m[\u001b[0m\u001b[0mindex\u001b[0m\u001b[0;34m]\u001b[0m \u001b[0;34m=\u001b[0m \u001b[0mself\u001b[0m\u001b[0;34m.\u001b[0m\u001b[0m_buy_stock\u001b[0m\u001b[0;34m(\u001b[0m\u001b[0mindex\u001b[0m\u001b[0;34m,\u001b[0m \u001b[0mactions\u001b[0m\u001b[0;34m[\u001b[0m\u001b[0mindex\u001b[0m\u001b[0;34m]\u001b[0m\u001b[0;34m)\u001b[0m\u001b[0;34m\u001b[0m\u001b[0;34m\u001b[0m\u001b[0m\n\u001b[0m\u001b[1;32m    305\u001b[0m \u001b[0;34m\u001b[0m\u001b[0m\n\u001b[1;32m    306\u001b[0m             \u001b[0mself\u001b[0m\u001b[0;34m.\u001b[0m\u001b[0mactions_memory\u001b[0m\u001b[0;34m.\u001b[0m\u001b[0mappend\u001b[0m\u001b[0;34m(\u001b[0m\u001b[0mactions\u001b[0m\u001b[0;34m)\u001b[0m\u001b[0;34m\u001b[0m\u001b[0;34m\u001b[0m\u001b[0m\n",
      "\u001b[0;31mValueError\u001b[0m: cannot convert float NaN to integer"
     ]
    }
   ],
   "source": [
    "trained_a2c = agent.train_model(model=model_a2c, \n",
    "                             tb_log_name='a2c',\n",
    "                             total_timesteps=50000)"
   ]
  },
  {
   "cell_type": "markdown",
   "metadata": {
    "id": "MRiOtrywfAo1"
   },
   "source": [
    "### Model 2: DDPG"
   ]
  },
  {
   "cell_type": "code",
   "execution_count": null,
   "metadata": {
    "id": "M2YadjfnLwgt"
   },
   "outputs": [],
   "source": [
    "agent = DRLAgent(env = env_train)\n",
    "model_ddpg = agent.get_model(\"ddpg\")"
   ]
  },
  {
   "cell_type": "code",
   "execution_count": null,
   "metadata": {
    "id": "tCDa78rqfO_a",
    "jupyter": {
     "outputs_hidden": true
    }
   },
   "outputs": [],
   "source": [
    "trained_ddpg = agent.train_model(model=model_ddpg, \n",
    "                             tb_log_name='ddpg',\n",
    "                             total_timesteps=50000)"
   ]
  },
  {
   "cell_type": "markdown",
   "metadata": {
    "id": "_gDkU-j-fCmZ"
   },
   "source": [
    "### Model 3: PPO"
   ]
  },
  {
   "cell_type": "code",
   "execution_count": null,
   "metadata": {
    "id": "y5D5PFUhMzSV"
   },
   "outputs": [],
   "source": [
    "agent = DRLAgent(env = env_train)\n",
    "PPO_PARAMS = {\n",
    "    \"n_steps\": 2048,\n",
    "    \"ent_coef\": 0.01,\n",
    "    \"learning_rate\": 0.00025,\n",
    "    \"batch_size\": 128,\n",
    "}\n",
    "model_ppo = agent.get_model(\"ppo\",model_kwargs = PPO_PARAMS)"
   ]
  },
  {
   "cell_type": "code",
   "execution_count": null,
   "metadata": {
    "id": "Gt8eIQKYM4G3",
    "jupyter": {
     "outputs_hidden": true
    }
   },
   "outputs": [],
   "source": [
    "trained_ppo = agent.train_model(model=model_ppo, \n",
    "                             tb_log_name='ppo',\n",
    "                             total_timesteps=50000)"
   ]
  },
  {
   "cell_type": "markdown",
   "metadata": {
    "id": "3Zpv4S0-fDBv"
   },
   "source": [
    "### Model 4: TD3"
   ]
  },
  {
   "cell_type": "code",
   "execution_count": null,
   "metadata": {
    "id": "JSAHhV4Xc-bh"
   },
   "outputs": [],
   "source": [
    "agent = DRLAgent(env = env_train)\n",
    "TD3_PARAMS = {\"batch_size\": 100, \n",
    "              \"buffer_size\": 1000000, \n",
    "              \"learning_rate\": 0.001}\n",
    "\n",
    "model_td3 = agent.get_model(\"td3\",model_kwargs = TD3_PARAMS)"
   ]
  },
  {
   "cell_type": "code",
   "execution_count": null,
   "metadata": {
    "id": "OSRxNYAxdKpU"
   },
   "outputs": [],
   "source": [
    "trained_td3 = agent.train_model(model=model_td3, \n",
    "                             tb_log_name='td3',\n",
    "                             total_timesteps=30000)"
   ]
  },
  {
   "cell_type": "markdown",
   "metadata": {
    "id": "Dr49PotrfG01"
   },
   "source": [
    "### Model 5: SAC"
   ]
  },
  {
   "cell_type": "code",
   "execution_count": null,
   "metadata": {
    "id": "xwOhVjqRkCdM"
   },
   "outputs": [],
   "source": [
    "agent = DRLAgent(env = env_train)\n",
    "SAC_PARAMS = {\n",
    "    \"batch_size\": 128,\n",
    "    \"buffer_size\": 1000000,\n",
    "    \"learning_rate\": 0.0001,\n",
    "    \"learning_starts\": 100,\n",
    "    \"ent_coef\": \"auto_0.1\",\n",
    "}\n",
    "\n",
    "model_sac = agent.get_model(\"sac\",model_kwargs = SAC_PARAMS)"
   ]
  },
  {
   "cell_type": "code",
   "execution_count": null,
   "metadata": {
    "id": "K8RSdKCckJyH"
   },
   "outputs": [],
   "source": [
    "trained_sac = agent.train_model(model=model_sac, \n",
    "                             tb_log_name='sac',\n",
    "                             total_timesteps=60000)"
   ]
  },
  {
   "cell_type": "markdown",
   "metadata": {
    "id": "f2wZgkQXh1jE"
   },
   "source": [
    "## Trading\n",
    "Assume that we have $1,000,000 initial capital at 2020-07-01. We use the DDPG model to trade Dow jones 30 stocks."
   ]
  },
  {
   "cell_type": "markdown",
   "metadata": {
    "id": "bEv5KGC8h1jE"
   },
   "source": [
    "### Set turbulence threshold\n",
    "Set the turbulence threshold to be greater than the maximum of insample turbulence data, if current turbulence index is greater than the threshold, then we assume that the current market is volatile"
   ]
  },
  {
   "cell_type": "code",
   "execution_count": null,
   "metadata": {
    "id": "efwBi84ch1jE"
   },
   "outputs": [],
   "source": [
    "data_risk_indicator = processed_full[(processed_full.date<'2020-07-01') & (processed_full.date>='2009-01-01')]\n",
    "insample_risk_indicator = data_risk_indicator.drop_duplicates(subset=['date'])"
   ]
  },
  {
   "cell_type": "code",
   "execution_count": null,
   "metadata": {
    "id": "VHZMBpSqh1jG"
   },
   "outputs": [],
   "source": [
    "insample_risk_indicator.vix.describe()"
   ]
  },
  {
   "cell_type": "code",
   "execution_count": null,
   "metadata": {
    "id": "BDkszkMloRWT"
   },
   "outputs": [],
   "source": [
    "insample_risk_indicator.vix.quantile(0.996)"
   ]
  },
  {
   "cell_type": "code",
   "execution_count": null,
   "metadata": {
    "id": "AL7hs7svnNWT"
   },
   "outputs": [],
   "source": [
    "insample_risk_indicator.turbulence.describe()"
   ]
  },
  {
   "cell_type": "code",
   "execution_count": null,
   "metadata": {
    "id": "N78hfHckoqJ9"
   },
   "outputs": [],
   "source": [
    "insample_risk_indicator.turbulence.quantile(0.996)"
   ]
  },
  {
   "cell_type": "markdown",
   "metadata": {
    "id": "U5mmgQF_h1jQ"
   },
   "source": [
    "### Trade\n",
    "\n",
    "DRL model needs to update periodically in order to take full advantage of the data, ideally we need to retrain our model yearly, quarterly, or monthly. We also need to tune the parameters along the way, in this notebook I only use the in-sample data from 2009-01 to 2020-07 to tune the parameters once, so there is some alpha decay here as the length of trade date extends. \n",
    "\n",
    "Numerous hyperparameters – e.g. the learning rate, the total number of samples to train on – influence the learning process and are usually determined by testing some variations."
   ]
  },
  {
   "cell_type": "code",
   "execution_count": null,
   "metadata": {
    "id": "cIqoV0GSI52v"
   },
   "outputs": [],
   "source": [
    "#trade = data_split(processed_full, '2020-07-01','2021-10-31')\n",
    "e_trade_gym = StockTradingEnv(df = trade, turbulence_threshold = 70,risk_indicator_col='vix', **env_kwargs)\n",
    "# env_trade, obs_trade = e_trade_gym.get_sb_env()"
   ]
  },
  {
   "cell_type": "code",
   "execution_count": null,
   "metadata": {
    "id": "W_XNgGsBMeVw"
   },
   "outputs": [],
   "source": [
    "trade.head()"
   ]
  },
  {
   "cell_type": "code",
   "execution_count": null,
   "metadata": {
    "id": "eLOnL5eYh1jR"
   },
   "outputs": [],
   "source": [
    "df_account_value, df_actions = DRLAgent.DRL_prediction(\n",
    "    model=trained_sac, \n",
    "    environment = e_trade_gym)"
   ]
  },
  {
   "cell_type": "code",
   "execution_count": null,
   "metadata": {
    "id": "ERxw3KqLkcP4"
   },
   "outputs": [],
   "source": [
    "df_account_value.shape"
   ]
  },
  {
   "cell_type": "code",
   "execution_count": null,
   "metadata": {
    "id": "2yRkNguY5yvp"
   },
   "outputs": [],
   "source": [
    "df_account_value.tail()"
   ]
  },
  {
   "cell_type": "code",
   "execution_count": null,
   "metadata": {
    "id": "nFlK5hNbWVFk"
   },
   "outputs": [],
   "source": [
    "df_actions.head()"
   ]
  },
  {
   "cell_type": "markdown",
   "metadata": {
    "id": "W6vvNSC6h1jZ"
   },
   "source": [
    "<a id='6'></a>\n",
    "# Part 7: Backtest Our Strategy\n",
    "Backtesting plays a key role in evaluating the performance of a trading strategy. Automated backtesting tool is preferred because it reduces the human error. We usually use the Quantopian pyfolio package to backtest our trading strategies. It is easy to use and consists of various individual plots that provide a comprehensive image of the performance of a trading strategy."
   ]
  },
  {
   "cell_type": "markdown",
   "metadata": {
    "id": "Lr2zX7ZxNyFQ"
   },
   "source": [
    "<a id='6.1'></a>\n",
    "## 7.1 BackTestStats\n",
    "pass in df_account_value, this information is stored in env class\n"
   ]
  },
  {
   "cell_type": "code",
   "execution_count": null,
   "metadata": {
    "id": "Nzkr9yv-AdV_"
   },
   "outputs": [],
   "source": [
    "print(\"==============Get Backtest Results===========\")\n",
    "now = datetime.datetime.now().strftime('%Y%m%d-%Hh%M')\n",
    "\n",
    "perf_stats_all = backtest_stats(account_value=df_account_value)\n",
    "perf_stats_all = pd.DataFrame(perf_stats_all)\n",
    "perf_stats_all.to_csv(\"./\"+config.RESULTS_DIR+\"/perf_stats_all_\"+now+'.csv')"
   ]
  },
  {
   "cell_type": "code",
   "execution_count": null,
   "metadata": {
    "id": "QkV-LB66iwhD"
   },
   "outputs": [],
   "source": [
    "#baseline stats\n",
    "print(\"==============Get Baseline Stats===========\")\n",
    "baseline_df = get_baseline(\n",
    "        ticker=\"^DJI\", \n",
    "        start = df_account_value.loc[0,'date'],\n",
    "        end = df_account_value.loc[len(df_account_value)-1,'date'])\n",
    "\n",
    "stats = backtest_stats(baseline_df, value_col_name = 'close')\n"
   ]
  },
  {
   "cell_type": "code",
   "execution_count": null,
   "metadata": {
    "id": "qg1kvfemrrQH"
   },
   "outputs": [],
   "source": [
    "df_account_value.loc[0,'date']"
   ]
  },
  {
   "cell_type": "code",
   "execution_count": null,
   "metadata": {
    "id": "tt1bzL5OrsTa"
   },
   "outputs": [],
   "source": [
    "df_account_value.loc[len(df_account_value)-1,'date']"
   ]
  },
  {
   "cell_type": "markdown",
   "metadata": {
    "id": "9U6Suru3h1jc"
   },
   "source": [
    "<a id='6.2'></a>\n",
    "## 7.2 BackTestPlot"
   ]
  },
  {
   "cell_type": "code",
   "execution_count": null,
   "metadata": {
    "id": "lKRGftSS7pNM"
   },
   "outputs": [],
   "source": [
    "print(\"==============Compare to DJIA===========\")\n",
    "%matplotlib inline\n",
    "# S&P 500: ^GSPC\n",
    "# Dow Jones Index: ^DJI\n",
    "# NASDAQ 100: ^NDX\n",
    "backtest_plot(df_account_value, \n",
    "             baseline_ticker = '^DJI', \n",
    "             baseline_start = df_account_value.loc[0,'date'],\n",
    "             baseline_end = df_account_value.loc[len(df_account_value)-1,'date'])"
   ]
  },
  {
   "cell_type": "code",
   "execution_count": null,
   "metadata": {
    "id": "BzBaE63H3RLc"
   },
   "outputs": [],
   "source": []
  },
  {
   "cell_type": "code",
   "execution_count": null,
   "metadata": {
    "id": "ZYeOjax-7H_5"
   },
   "outputs": [],
   "source": []
  }
 ],
 "metadata": {
  "colab": {
   "collapsed_sections": [
    "Uy5_PTmOh1hj",
    "_gDkU-j-fCmZ",
    "3Zpv4S0-fDBv"
   ],
   "include_colab_link": true,
   "name": "FinRL_StockTrading_NeurIPS_2018.ipynb",
   "provenance": []
  },
  "kernelspec": {
   "display_name": "Python 3",
   "language": "/gnu/store/fby6l226w8kh2mwkzpjpajmgy0q1kxli-python-wrapper-3.9.9/bin/python",
   "name": "python3"
  },
  "language_info": {
   "codemirror_mode": {
    "name": "ipython",
    "version": 3
   },
   "file_extension": ".py",
   "mimetype": "text/x-python",
   "name": "python",
   "nbconvert_exporter": "python",
   "pygments_lexer": "ipython3",
   "version": "3.9.9"
  }
 },
 "nbformat": 4,
 "nbformat_minor": 1
}
